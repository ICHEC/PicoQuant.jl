{
 "cells": [
  {
   "cell_type": "markdown",
   "metadata": {},
   "source": [
    "# Introduction to PicoQuant\n",
    "\n",
    "### About PicoQuant.\n",
    "\n",
    "PicoQuant is a prototype of QuantEx: a platform consisting of modular quantum circuit simulation tools which use tensor network contractions methods. We use hierarchical layers of abstraction to encapsulate complexity and enable these tools to be easily extended and integrated into users’ circuit simulation codes. The layers are outlined as follows:\n",
    "\n",
    "\n",
    "- Layer 1 - Operations in this layer perform the actual computations that are coordinated by\n",
    "layer 2. This layer consists of a number of backends which are capable of\n",
    "performing the computations for a variety of different platforms and scenarios.\n",
    "\n",
    "\n",
    "- Layer 2 - Operations here are concerned with manipulating tensor network structures\n",
    "and are responsible for coordinating and passing off to layer 1 functions\n",
    "to perform the computations.\n",
    "\n",
    "\n",
    "- Layer 3 - This is the highest layer and deals with the conversion of circuit\n",
    "descriptions (QASM/qiskit circuit objects) to tensor networks. It provides\n",
    "data structures and functionality to represent and manipulate tensor networks\n",
    "representing quantum circuits.\n",
    "\n",
    "### Simple example\n",
    "\n",
    "Before explaining any of the workings we jump into a simple example which demonstrates the usage of PicoQuant using a 3-qubit GHZ state preparation circuit."
   ]
  },
  {
   "cell_type": "code",
   "execution_count": null,
   "metadata": {},
   "outputs": [],
   "source": [
    "using PicoQuant\n",
    "\n",
    "tn = TensorNetworkCircuit(3)\n",
    "add_input!(tn, \"000\")\n",
    "add_gate!(tn, gate_tensor(:H), [1])\n",
    "add_gate!(tn, gate_tensor(:CX), [1, 2])\n",
    "add_gate!(tn, gate_tensor(:CX), [2, 3])\n",
    "psi = full_wavefunction_contraction!(tn, \"vector\")"
   ]
  },
  {
   "cell_type": "markdown",
   "metadata": {},
   "source": [
    "### Using PicoQuant\n",
    "\n",
    "We now go through each of the lines in the above example and explain their workings. We then show the same example but by starting from a QASM circuit description."
   ]
  },
  {
   "cell_type": "markdown",
   "metadata": {},
   "source": [
    "Before doing anything we must import the PicoQuant package."
   ]
  },
  {
   "cell_type": "code",
   "execution_count": null,
   "metadata": {},
   "outputs": [],
   "source": [
    "using PicoQuant"
   ]
  },
  {
   "cell_type": "markdown",
   "metadata": {},
   "source": [
    "We could also have import PicoQuant using the `import` keyword but would then need to prefix each function with `PicoQuant.`."
   ]
  },
  {
   "cell_type": "markdown",
   "metadata": {},
   "source": [
    "When creating a tensor network, we can choose to initialise a backend. By default, an InteractiveBackend is used. Backends are responsible for keeping track of any tensors created/removed during the creation and contraction of tensor networks. When the user calls a function that alters the structure of a tensor network, the function will use the given backend to invoke function methods that handle the tensor data in a way that is specific to that backend. We currently have two different backends that may be used:\n",
    "\n",
    "1. Interactive backend:\n",
    "    - This backend is initialised by passing InteractiveBackend() to the TensorNetworkCircuit constructor. It may also be omitted as it is the default backend if one is not specified.\n",
    "    - This backend contains a dictionary of all the tensors in the tensor network\n",
    "    - When a function is called to carry out an operation (contraction, reshape, decompose, permute etc...) on tensors in the tensor network, it is carried out immediately and the tensors are updated in realtime  \n",
    "    \n",
    "2. DSL (Domain Specific Language) backend:\n",
    "    - This backend is initialised by passing a DSLBackend(\"dsl_file.tl\", \"tensor_file.h5\", \"output_file.h5\") to the TensorNetworkCircuit constructor.\n",
    "    - When tensors/gates are added to a tensor network, this backend will write the tensor data to the given hdf5 file for storing tensors. Tensors that are the result of contracting a network will be written to the given output file. By default, if no arguments are given to this constructor, both tensor and output data will be written to a file called \"tensor_data.h5\"\n",
    "    - When a function is called to carry out an operation (contraction, reshape, decompose, permute etc...) on tensors in the tensor network, the DSL command describing this operation is written to the DSL file for later execution     \n",
    "\n",
    "For the rest of this notebook we will use the InteractiveBackend. In notebook 3 we will demonstate the usage of the DSL backend."
   ]
  },
  {
   "cell_type": "code",
   "execution_count": null,
   "metadata": {},
   "outputs": [],
   "source": [
    "# Create an instance of TensorNetworkCircuit. \n",
    "# The integer argument tells the constructor how many qubits we would like to have in our circuit.\n",
    "# As the InteractiveBackend is the default, we can omit it here.\n",
    "tn = TensorNetworkCircuit(3)"
   ]
  },
  {
   "cell_type": "markdown",
   "metadata": {},
   "source": [
    "The output of the above cell shows the fields contained in our TensorNetworkCircuit instance. More details about the data structure used by PicoQuant to represent tensor networks are given in the notebook titled 'Tensor-network-data-structure'.\n",
    "\n",
    "Now, we would like to add some gates to our circuit. We can do this by calling the add_gate! function. The arguments for this function are: \n",
    "1. a TensorNetworkCircuit to add a gate to, \n",
    "2. a tensor containing the gate data and \n",
    "3. an array of integers identifying the target qubits of the gate. \n",
    "\n",
    "PicoQuant also provides a gate_tensor() function which returns the tensor data for some commonly used quantum gates. We can get a list of accepted input for gate_tensor as follows: "
   ]
  },
  {
   "cell_type": "code",
   "execution_count": null,
   "metadata": {},
   "outputs": [],
   "source": [
    "?gate_tensor"
   ]
  },
  {
   "cell_type": "markdown",
   "metadata": {},
   "source": [
    "Below, we create tensor data for a Hadamard gate and a CNOT gate and then add these to our circuit to create a 3-qubit GHZ circuit. "
   ]
  },
  {
   "cell_type": "code",
   "execution_count": null,
   "metadata": {},
   "outputs": [],
   "source": [
    "# Create tensors for the hadamard and CNOT gates\n",
    "# (Note, as the CNOT gate acts on two qubits we require the gate data to be contained in a rank 4 tensor.)\n",
    "hadamard_data = gate_tensor(:H)\n",
    "CNOT_data = gate_tensor(:CX)\n",
    "\n",
    "# Add the gates to the circuit in the desired order.\n",
    "# Note for adding the controlled not gates, the array identifying the qubits to act on is of the form\n",
    "# [target_quibt, controll_qubit]\n",
    "add_gate!(tn, hadamard_data, [1])\n",
    "add_gate!(tn, CNOT_data, [1, 2])\n",
    "add_gate!(tn, CNOT_data, [2, 3])"
   ]
  },
  {
   "cell_type": "markdown",
   "metadata": {},
   "source": [
    "We can specify an initial state for the input qubits using the add_input! function. To call it, we need to pass it our TensorNetworkCircuit instance and a string of 0's and 1's indicating a computational basis state to put our input qubits in. This function then adds a node to the TensorNetworkCircuit for each input qubit. The added nodes will contain the appropriate single qubit state vector specified by the given string. Below, we add nodes to our TensorNetworkCircuit for input qubits in the state $|000>$. "
   ]
  },
  {
   "cell_type": "code",
   "execution_count": null,
   "metadata": {},
   "outputs": [],
   "source": [
    "add_input!(tn, \"000\")"
   ]
  },
  {
   "cell_type": "markdown",
   "metadata": {},
   "source": [
    "To visually inspect the tensor network we have created we can plot it using the PicoQuant plot function."
   ]
  },
  {
   "cell_type": "code",
   "execution_count": null,
   "metadata": {},
   "outputs": [],
   "source": [
    "# Note, the edges representing the open indices of the network are not shown.\n",
    "plot(tn)"
   ]
  },
  {
   "cell_type": "markdown",
   "metadata": {},
   "source": [
    "To get the output of the circuit we need to contract the tensor network. We can do this by calling the full_wavefunction_contraction! function. This will first contract the nodes corresponding to the input qubits to get a tensor representing the wavefunction of the input qubits. It then contracts the gates of the circuit into the wavefunction tensor in the same order they appear in the circuit. We can also pass the full_wavefunction_contraction! function an optional argument specifying the shape the resulting tensor. This optional argument can either be an array of integers giving the shape of the final tensor or it can be the string \"vector\" which will tell the function to rehsape the final tensor into a vector."
   ]
  },
  {
   "cell_type": "code",
   "execution_count": null,
   "metadata": {},
   "outputs": [],
   "source": [
    "full_wavefunction_contraction!(tn, \"vector\")"
   ]
  },
  {
   "cell_type": "markdown",
   "metadata": {},
   "source": [
    "With the interactive backend, the full_wavefunction_contraction! function will return the output of the circuit. The output will also be saved by the backend under the name :result. We can access the saved output by using the load_tensor_data function, which returns the data associated with a given node label, as follows:"
   ]
  },
  {
   "cell_type": "code",
   "execution_count": null,
   "metadata": {},
   "outputs": [],
   "source": [
    "circuit_output = load_tensor_data(tn, :result)"
   ]
  },
  {
   "cell_type": "markdown",
   "metadata": {},
   "source": [
    "It may happen that we are only interested in the output amplitude for a specific computational basis state, rather than the entire output state. If that is the case, we can also add nodes to the tensor network to represent the basis state of interest. Then, contracting the network will return the inner product of the circuits' output state and the given basis state. Adding output nodes is similar to adding input nodes: We call the function 'add_output!' which takes similar arguments to 'add_input!'"
   ]
  },
  {
   "cell_type": "markdown",
   "metadata": {},
   "source": [
    "## Qiskit and Qasm\n",
    "\n",
    "PicoQuant also provides functions for creating a qiskit circuit object from a qasm description of a quantum circuit and converting that circuit object to a TensorNetworkCircuit. We demonstrate the use of these functions below.\n",
    "\n",
    "We start by creating a qasm description of a simple quantum circuit and then use it to gernerate a qiskit circuit object."
   ]
  },
  {
   "cell_type": "code",
   "execution_count": null,
   "metadata": {},
   "outputs": [],
   "source": [
    "# A qasm description of the 3 qubit GHZ circuit.\n",
    "qasm_str = \"\"\"OPENQASM 2.0;\n",
    "              include \"qelib1.inc\";\n",
    "              qreg q[3];\n",
    "              h q[0];\n",
    "              cx q[0],q[1];\n",
    "              cx q[1],q[2];\"\"\"\n",
    "\n",
    "# We can create a qiskit circuit object for this circuit by passing the above string to the following function.\n",
    "circ = load_qasm_as_circuit(qasm_str)"
   ]
  },
  {
   "cell_type": "markdown",
   "metadata": {},
   "source": [
    "There is also a 'load_qasm_as_circuit_from_file' to generate a qiskit circuit object from a file containing qasm. To call it, we need only to pass it a string with the path to the qasm file.\n",
    "\n",
    "Once a qiskit circuit object is created, we may call any of the methods contained in the object to add gates or barriers to the circuit. Below we add a barrier to the out circuit followed by a couple of controlled-$Z$ gates before drawing the circuit."
   ]
  },
  {
   "cell_type": "code",
   "execution_count": null,
   "metadata": {},
   "outputs": [],
   "source": [
    "circ.barrier()\n",
    "circ.cz(1, [0,2])\n",
    "circ.draw()"
   ]
  },
  {
   "cell_type": "markdown",
   "metadata": {},
   "source": [
    "We can use this circuit object to a generate a TensorNetworkCircuit instance for the same circuit by passing it to the 'convert_qiskit_circ_to_network' function. This function will create a TensorNetworkCircuit instance with the same number of qubits and then add the same gates to it in the same order as in the circuit object. Any barriers added to the qiskit circuit will be ignored and do not appear in the TensorNetworkCircuit."
   ]
  },
  {
   "cell_type": "code",
   "execution_count": null,
   "metadata": {},
   "outputs": [],
   "source": [
    "# This function creates the TensorNetworkCircuit from the qiskit circuit.\n",
    "# Again we choose an InteractiveBackend and show the explicit usage here.\n",
    "tn = convert_qiskit_circ_to_network(circ, InteractiveBackend())\n",
    "\n",
    "# Here we add the basis state |000> as the initial state of the qubits in the circuit,\n",
    "# and add the vector |111> to the end of the circuit.\n",
    "add_input!(tn, \"000\")\n",
    "add_output!(tn, \"111\")\n",
    "\n",
    "# Contracting the network should now produce the amplitude of the circuit's output state corresponding \n",
    "# to the state |111>\n",
    "output_node = full_wavefunction_contraction!(tn)\n",
    "load_tensor_data(tn, output_node)"
   ]
  },
  {
   "cell_type": "markdown",
   "metadata": {},
   "source": [
    "### Using qiskit"
   ]
  },
  {
   "cell_type": "markdown",
   "metadata": {},
   "source": [
    "In the above we are using qiskit to read the QASM file and convert the gates to matrices. We can also use qiskit directly to construct circuits. For this we use the PyCall to import the qiskit module. For example to construct the same circuit as above we would use the following (note the 0-based indexing of qubits)"
   ]
  },
  {
   "cell_type": "code",
   "execution_count": null,
   "metadata": {},
   "outputs": [],
   "source": [
    "using PyCall\n",
    "\n",
    "qiskit = pyimport(\"qiskit\")\n",
    "circ = qiskit.QuantumCircuit(3)\n",
    "circ.h(0)\n",
    "circ.cx(0, 1)\n",
    "circ.cx(1, 2)\n",
    "circ.draw()"
   ]
  },
  {
   "cell_type": "markdown",
   "metadata": {},
   "source": [
    "### Short Exercise\n",
    "The following is a short exercise to help get familiar with functions introduced above. The aim is that given the GHZ preparation circuit above, add additional gates so that the output state is again the all zero state $|000\\rangle$."
   ]
  },
  {
   "cell_type": "code",
   "execution_count": null,
   "metadata": {},
   "outputs": [],
   "source": [
    "tn = TensorNetworkCircuit(3)\n",
    "add_input!(tn, \"000\")\n",
    "\n",
    "hadamard_data = gate_tensor(:H)\n",
    "CNOT_data = gate_tensor(:CX)\n",
    "add_gate!(tn, hadamard_data, [1])\n",
    "add_gate!(tn, CNOT_data, [1, 2])\n",
    "add_gate!(tn, CNOT_data, [2, 3])"
   ]
  },
  {
   "cell_type": "markdown",
   "metadata": {},
   "source": [
    "Enter you code in the following cell to add gates to return the state to all zeros"
   ]
  },
  {
   "cell_type": "code",
   "execution_count": null,
   "metadata": {},
   "outputs": [],
   "source": [
    "# enter you code here to add gates to return the state to 000 state\n"
   ]
  },
  {
   "cell_type": "markdown",
   "metadata": {},
   "source": [
    "We contract the network and check the final state is indeed the all zero state."
   ]
  },
  {
   "cell_type": "code",
   "execution_count": null,
   "metadata": {},
   "outputs": [],
   "source": [
    "full_wavefunction_contraction!(tn, \"vector\")\n",
    "if load_tensor_data(tn, :result) ≈ kron([1, 0], [1, 0], [1, 0]) \n",
    "    println(\"Correct\")\n",
    "else\n",
    "    println(\"State does not match expected answer\")\n",
    "end"
   ]
  },
  {
   "cell_type": "markdown",
   "metadata": {},
   "source": [
    "### Area of Application\n",
    "\n",
    "Up until recently it has been possible to simulate the largest prototype universal quantum computers using direct evolution of the quantum state (where the full wave-function is stored in memory (or on disk)). This is a very computationally demanding problem owing to the exponential growth in the state space as the number of qubits is increased. With the recent emergence of Noisy Intermediate Scale Quantum (NISQ) devices, it has become intractable to use this approach to simulate devices of this size on even the largest supercomputers.\n",
    "\n",
    "\n",
    "The most promising alternative to direct evolution of the full wave-function are tensor network contraction methods. They work by representing quantum states and operators using networks of tensors where calculations correspond to contractions over network edges. Tensor network methods are also approximate methods, well approximating many qubit states with low entanglement. Thus, while a full wave function simulator is ideal for simulating quantum circuits with a small number of qubits, tools such as QuantEx will be most beneficial for simulating quantum circuits with low depth and high width. This is illustrated in the graphic below:\n",
    "\n",
    "\n",
    "![title](img/area_of_application.svg)"
   ]
  },
  {
   "cell_type": "markdown",
   "metadata": {},
   "source": [
    "### Exercise solution"
   ]
  },
  {
   "cell_type": "markdown",
   "metadata": {},
   "source": [
    "To undo the operation one can apply the inverse of the circuit by adding the gates in reverse order."
   ]
  },
  {
   "cell_type": "code",
   "execution_count": null,
   "metadata": {},
   "outputs": [],
   "source": [
    "add_gate!(tn, CNOT_data, [2, 3])\n",
    "add_gate!(tn, CNOT_data, [1, 2])\n",
    "add_gate!(tn, hadamard_data, [1])"
   ]
  },
  {
   "cell_type": "code",
   "execution_count": null,
   "metadata": {},
   "outputs": [],
   "source": []
  }
 ],
 "metadata": {
  "@webio": {
   "lastCommId": null,
   "lastKernelId": null
  },
  "kernelspec": {
   "display_name": "Julia 1.3.1",
   "language": "julia",
   "name": "julia-1.3"
  },
  "language_info": {
   "file_extension": ".jl",
   "mimetype": "application/julia",
   "name": "julia",
   "version": "1.3.1"
  }
 },
 "nbformat": 4,
 "nbformat_minor": 4
}
