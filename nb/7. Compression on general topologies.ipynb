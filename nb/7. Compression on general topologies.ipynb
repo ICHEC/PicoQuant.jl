{
 "cells": [
  {
   "cell_type": "markdown",
   "metadata": {},
   "source": [
    "# Compression on general topologies"
   ]
  },
  {
   "cell_type": "markdown",
   "metadata": {},
   "source": [
    "In this notebook we will extend the ideas discussed in [notebook 4](4.Gate-decomposition-and-tensor-network-compression.ipynb) to arbitrary topologies. We develop and demonstrate these ideas using 2D Random Quantum Circuits (RQCs). \n",
    "\n",
    "First as always we import the PicoQuant package and also the Plots package for producing plots."
   ]
  },
  {
   "cell_type": "code",
   "execution_count": null,
   "metadata": {},
   "outputs": [],
   "source": [
    "using PicoQuant\n",
    "import Plots"
   ]
  },
  {
   "cell_type": "markdown",
   "metadata": {},
   "source": [
    "## Create a random quantum circuit"
   ]
  },
  {
   "cell_type": "markdown",
   "metadata": {},
   "source": [
    "We create a random quantum circuit similar to those used in the quantum advantage experiments. These circuits are defined on 2D grids of qubits and feature:\n",
    "- An initial layer of Hadamard gates\n",
    "- Layers of entangling gates (in this case controlled Z gates) applied on neightboring qubits in a pattern which takes 8 layers to cover to all pairs\n",
    "- Layers of single single qubit gates chosen at random from a set of T, sqrt(X) and sqrt(Y) gates which are applied to qubits to which entangling gates were applied in the last round. These are applied such that the same gate is not applied to the same qubit twice in a row.\n",
    "\n",
    "We now create such a circuit for a 3x3 grid with depth 16 which corresponds to two complete coverings of pairs of neighbouring qubits."
   ]
  },
  {
   "cell_type": "code",
   "execution_count": null,
   "metadata": {},
   "outputs": [],
   "source": [
    "rows = 3\n",
    "cols = 3\n",
    "depth = 32\n",
    "seed = 42 # we set the seed to ensure reproducibility while debuggin\n",
    "          # replace this with `nothing` to vary the circuit\n",
    "circ = create_RQC(rows, cols, depth, seed) \n",
    "circ.draw()"
   ]
  },
  {
   "cell_type": "markdown",
   "metadata": {},
   "source": [
    "## Contract with full wavefunction approach"
   ]
  },
  {
   "cell_type": "markdown",
   "metadata": {},
   "source": [
    "We first contract this circuit using the full wave-function approach to get the exact wave-function output which will be used as a reference."
   ]
  },
  {
   "cell_type": "code",
   "execution_count": null,
   "metadata": {},
   "outputs": [],
   "source": [
    "tn = convert_qiskit_circ_to_network(circ)\n",
    "add_input!(tn, \"0\"^(rows * cols))\n",
    "output_node = full_wavefunction_contraction!(tn, \"vector\")\n",
    "ψ = load_tensor_data(tn, output_node)\n",
    "println(\"State norm: $(abs(ψ' * ψ)^2)\")"
   ]
  },
  {
   "cell_type": "markdown",
   "metadata": {},
   "source": [
    "## MPS contracton approach"
   ]
  },
  {
   "cell_type": "markdown",
   "metadata": {},
   "source": [
    "We contract using the MPS approach with no cutoff applied to the bond dimension. This should give the exact state and also show the bond dimension that is required to represent this state exactly."
   ]
  },
  {
   "cell_type": "code",
   "execution_count": null,
   "metadata": {},
   "outputs": [],
   "source": [
    "tn = convert_qiskit_circ_to_network(circ, decompose=true, transpile=true)\n",
    "add_input!(tn, \"0\"^(rows * cols))\n",
    "@time mps_nodes = contract_mps_tensor_network_circuit!(tn)\n",
    "@show [getnode(tn, x).dims for x in mps_nodes]\n",
    "@show [prod(getnode(tn, x).dims) for x in mps_nodes]\n",
    "ψ_mps = calculate_mps_amplitudes!(tn, mps_nodes)\n",
    "println(\"State norm: $(abs(ψ_mps' * ψ_mps)^2)\")\n",
    "println(\"Overlap with exact from full wf approach: $(abs(ψ' * ψ_mps)^2)\")"
   ]
  },
  {
   "cell_type": "markdown",
   "metadata": {},
   "source": [
    "We see from this that the bond dimension in the centre of the chain has grown to 16. Next we apply a cut off on the maximum dimension of these bonds and compare the outputs."
   ]
  },
  {
   "cell_type": "code",
   "execution_count": null,
   "metadata": {},
   "outputs": [],
   "source": [
    "tn = convert_qiskit_circ_to_network(circ, decompose=true, transpile=true)\n",
    "add_input!(tn, \"0\"^(rows * cols))\n",
    "mps_nodes = contract_mps_tensor_network_circuit!(tn, max_rank=14)\n",
    "@show [getnode(tn, x).dims for x in mps_nodes]\n",
    "ψ_mps′ = calculate_mps_amplitudes!(tn, mps_nodes);\n",
    "println(\"State norm: $(abs(ψ_mps′' * ψ_mps′)^2)\")\n",
    "println(\"Overlap : $(abs(ψ' * ψ_mps′)^2)\")\n",
    "\n",
    "println(\"\\nWe now normalise the output state first and check the overlap\")\n",
    "ψ_mps_normed′ = ψ_mps′ / sqrt(abs(ψ_mps′' * ψ_mps′))\n",
    "println(\"State norm: $(abs(ψ_mps_normed′' * ψ_mps_normed′)^2)\")\n",
    "println(\"Overlap : $(abs(ψ' * ψ_mps_normed′)^2)\")"
   ]
  },
  {
   "cell_type": "markdown",
   "metadata": {},
   "source": [
    "Here we see that by truncating the bond dimension to 14 we get and approximation of the exact output state with smaller overlap."
   ]
  },
  {
   "cell_type": "markdown",
   "metadata": {},
   "source": [
    "## PEPs contraction approach"
   ]
  },
  {
   "cell_type": "markdown",
   "metadata": {},
   "source": [
    "Instead of using an MPS to represent the state we attempt to use a PEPS state which better matches the topology of the input circuit. The first step here is to be able to generate a coupling map which returns the sparse adjacency matrix representation of the lattice. This coupling map can be used to transpile the circuit so that entangling gates are only applied between neighbouring qubits."
   ]
  },
  {
   "cell_type": "code",
   "execution_count": null,
   "metadata": {},
   "outputs": [],
   "source": [
    "\"\"\"\n",
    "generate_2d_coupling_map(rows::Integer, cols::Integer)\n",
    "\n",
    "Generate a coupling map for a grid\n",
    "\"\"\"\n",
    "function generate_2d_coupling_map(rows::Integer, cols::Integer)\n",
    "    coupling_map = Array{Array{Int64, 1}}(undef, 0)\n",
    "    for i in 1:rows\n",
    "        for j in 1:cols\n",
    "            idx = (i-1)*rows + j\n",
    "            if i < rows\n",
    "                push!(coupling_map, [idx - 1, idx+rows - 1])\n",
    "            end\n",
    "            if j < cols\n",
    "                push!(coupling_map, [idx - 1, idx])\n",
    "            end\n",
    "        end\n",
    "    end\n",
    "    coupling_map\n",
    "end"
   ]
  },
  {
   "cell_type": "code",
   "execution_count": null,
   "metadata": {},
   "outputs": [],
   "source": [
    "coupling_map = generate_2d_coupling_map(rows, cols)"
   ]
  },
  {
   "cell_type": "markdown",
   "metadata": {},
   "source": [
    "We convert the RQC to a tensor network circuit using this coupling map and compare the resulting tensor network to what results when using the default coupling map (corresonding to a 1D chain of tensors called (an MPS))."
   ]
  },
  {
   "cell_type": "code",
   "execution_count": null,
   "metadata": {},
   "outputs": [],
   "source": [
    "seed = 42 # we set the seed to ensure reproducibility while debuggin\n",
    "          # replace this with `nothing` to vary the circuit\n",
    "circ = create_RQC(rows, cols, depth, seed) "
   ]
  },
  {
   "cell_type": "code",
   "execution_count": null,
   "metadata": {},
   "outputs": [],
   "source": [
    "tn = convert_qiskit_circ_to_network(circ, decompose=true, transpile=true, couplings=coupling_map)\n",
    "add_input!(tn, \"0\"^(rows*cols))\n",
    "plot(tn)"
   ]
  },
  {
   "cell_type": "markdown",
   "metadata": {},
   "source": [
    "From this we can see that for the MPS layout, the resulting circuit has many more gates which must be added to satisfy the constraint that only neighbouring qubits can have entangling gates applied to them.\n",
    "\n",
    "Next we contract this network in order without any compression and look at the resulting bond dimensions."
   ]
  },
  {
   "cell_type": "code",
   "execution_count": null,
   "metadata": {},
   "outputs": [],
   "source": [
    "tn = convert_qiskit_circ_to_network(circ, decompose=true, transpile=true, couplings=coupling_map)\n",
    "add_input!(tn, \"0\"^(rows*cols))\n",
    "@time network_nodes = contract_tensor_network_circuit_with_compression!(tn)\n",
    "[getnode(tn, x).dims for x in network_nodes]"
   ]
  },
  {
   "cell_type": "markdown",
   "metadata": {},
   "source": [
    "To get all the amplitudes of the PEPS state it is necessary to contract the resulting PEPS network to a single tensor. This can be very computationally expensive and is very sensitive to the contracting ordering used. For the 3x3 case we are using here we can get away with using the `calculate_mps_amplitudes!` along with the array of node names returned from the contraction function. For larger PEPS states however, it will be necessary to take greater care to choose a good ordering."
   ]
  },
  {
   "cell_type": "code",
   "execution_count": null,
   "metadata": {},
   "outputs": [],
   "source": [
    "ψ_peps = calculate_mps_amplitudes!(tn, network_nodes);\n",
    "println(\"State norm: $(abs(ψ_peps' * ψ_peps)^2)\")\n",
    "println(\"Overlap with exact from full wf approach: $(abs(ψ' * ψ_peps)^2)\")"
   ]
  },
  {
   "cell_type": "markdown",
   "metadata": {},
   "source": [
    "Next we apply a cut-off to the bond dimension and see the effect on the fidelity of the output state."
   ]
  },
  {
   "cell_type": "code",
   "execution_count": null,
   "metadata": {},
   "outputs": [],
   "source": [
    "tn = convert_qiskit_circ_to_network(circ, decompose=true, transpile=true, couplings=coupling_map)\n",
    "add_input!(tn, \"0\"^(rows*cols))\n",
    "network_nodes = contract_tensor_network_circuit_with_compression!(tn, max_rank=15)\n",
    "@show [getnode(tn, x).dims for x in network_nodes]\n",
    "ψ_peps′ = calculate_mps_amplitudes!(tn, network_nodes)\n",
    "println(\"State norm: $(abs(ψ_peps′' * ψ_peps′)^2)\")\n",
    "println(\"Overlap with exact from full wf approach: $(abs(ψ' * ψ_peps′)^2)\")"
   ]
  },
  {
   "cell_type": "markdown",
   "metadata": {},
   "source": [
    "We see that this had a large impact on the fidelity of the output state, which we can improve somewhat by normalising the state."
   ]
  },
  {
   "cell_type": "code",
   "execution_count": null,
   "metadata": {},
   "outputs": [],
   "source": [
    "ψ_peps_normed′ = ψ_peps′ / sqrt(abs(ψ_peps′' * ψ_peps′))\n",
    "println(\"State norm: $(abs(ψ_peps_normed′' * ψ_peps_normed′)^2)\")\n",
    "println(\"Overlap with exact from full wf approach: $(abs(ψ' * ψ_peps_normed′)^2)\")"
   ]
  },
  {
   "cell_type": "markdown",
   "metadata": {},
   "source": [
    "We can plot some of the individual amplitudees to get an idea of how they compare for the different approximations."
   ]
  },
  {
   "cell_type": "code",
   "execution_count": null,
   "metadata": {},
   "outputs": [],
   "source": [
    "Plots.plot(abs.(ψ[1:100]).^2, label=\"Exact\")\n",
    "Plots.plot!(abs.(ψ_mps_normed′[1:100]).^2, label=\"Truncated MPS\")\n",
    "Plots.plot!(abs.(ψ_peps_normed′[1:100]).^2, label=\"Truncated PEPS\", ylabel=\"prob. amplitude\", xlabel=\"index\")"
   ]
  },
  {
   "cell_type": "markdown",
   "metadata": {},
   "source": [
    "In this notebook we showed the contraction of a network using the PEPS representation for the input state. This exactly reproduced the output state when no cut-off was applied and gave an approximation with non zero overlap when a cut-off was used.\n",
    "\n",
    "- Some more work is required to select appropriate orderings for contracting the full output PEPS state efficently and for being able to calculate particular amplitudes similar to how the MPSState type works. \n",
    "- From the crude timing above, it appears that the PEPS approach takes a similar amount of time as the MPS approach but has fewer allocations and uses less memory. Further work is required to characterise the scaling behaviour for larger and deeper RQCs."
   ]
  },
  {
   "cell_type": "code",
   "execution_count": null,
   "metadata": {},
   "outputs": [],
   "source": []
  }
 ],
 "metadata": {
  "@webio": {
   "lastCommId": null,
   "lastKernelId": null
  },
  "kernelspec": {
   "display_name": "Julia 1.5.3",
   "language": "julia",
   "name": "julia-1.5"
  },
  "language_info": {
   "file_extension": ".jl",
   "mimetype": "application/julia",
   "name": "julia",
   "version": "1.5.3"
  }
 },
 "nbformat": 4,
 "nbformat_minor": 4
}
