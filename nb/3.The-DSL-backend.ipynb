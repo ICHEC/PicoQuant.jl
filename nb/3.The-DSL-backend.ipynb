{
 "cells": [
  {
   "cell_type": "markdown",
   "metadata": {},
   "source": [
    "## The DSL backend\n",
    "\n",
    "As mentioned in the introduction tutorial, backends are responsible for keeping track of any tensors created/removed during the creation or contraction of tensor networks. The DSL backend does this by writing tensor data, and commands describing the manipulation of it, to disk instead of saving the data in memory and acting on it interactively.\n",
    "\n",
    "With a DSL backend, when a tensor network is created with PicoQuant, all of the associated tensor data will be written to a HDF5 file. When we call functions to contract or manipulate tensors contained in a tensor network, instead of acting on the tensor data in the HDF5 file directly, the DSL backend will use a domain specfic language to write commands describing the contraction/manipulation. These commands are written to a DSL script which is created when the DSL backend is created. Therefore, for example, contracting a tensor network representing a quantum circuit with a DSL backend will not produce the output of the circuit immediately. To get the output, we must also call an execute_dsl_file function which will read the DSL commands in the DSL script and then perform the operations described there to produce the output.\n",
    "\n",
    "One advantage of writing a DSL script over operating on tensor data interactively is that it allows for a preprocessing stage, before any tensor operations are carried out with the tensor data, where an efficient execution of the DSL commands can be determined.\n",
    "\n",
    "Before illustrating the behaviour of PicoQuant functions induced by the DSL backend, we give a brief description of the domain specfic language.\n",
    "\n",
    "## The Domain Specific Language\n",
    "\n",
    "The domain specific language consists of the following commands:\n",
    "1. tensor - Command to load a tensor from the HDF5 file referenced by the DSL backend. Input arguments are: \n",
    "    1. A name for a variable to bind to the tensor data when it is loaded into memory \n",
    "    2. The name under which the tensor data is saved in the HDF5 file.\n",
    "    \n",
    "    \n",
    "2. del - Command to delete a tensor. Input arguments are:\n",
    "    1. The vaiable name of a tensor in memory to delete\n",
    "    \n",
    "    \n",
    "3. save - Command to save a tensor to a given output file. Input arguments are:\n",
    "    1. The tensor variable name, \n",
    "    2. The output HDF5 file name,\n",
    "    3. The name to save the tensor under within the HDF5 file.\n",
    "\n",
    "\n",
    "4. ncon - Command to contract two tensors $A$ and $B$ together and produce a new tensor $C$. Input arguments are \n",
    "    1. A name for the new tensor $C$, \n",
    "    2. The name for the first tensor $A$ \n",
    "    3. The ncon indices identifying which indices of $A$ to contract, \n",
    "    4. The name of the second tensor $B$,\n",
    "    5. The ncon indices for the second tensor $B$.\n",
    "\n",
    "\n",
    "5. reshape - Command to reshape a tensor. Input arguments are:\n",
    "    1. The name of a tensor to reshape,\n",
    "    2. An array of integers specifying the desired shape of the tensor.\n",
    "    \n",
    "    \n",
    "6. decompose - Command to decompose a tensor using SVD. Input arguments are:\n",
    "    1. The name of the tensor to decompose,\n",
    "    2. An array of integers iddentifying the indices of the tensor to be considered the left indices during SVD.\n",
    "    3. An array of integers iddentifying the right indices of the tensor during SVD.\n",
    "    4. A real, positive number giving the threshold under which singular values will be discarded."
   ]
  },
  {
   "cell_type": "markdown",
   "metadata": {},
   "source": [
    "## Using the DSL Backend"
   ]
  },
  {
   "cell_type": "code",
   "execution_count": null,
   "metadata": {},
   "outputs": [],
   "source": [
    "using PicoQuant"
   ]
  },
  {
   "cell_type": "markdown",
   "metadata": {},
   "source": [
    "To initialise a DSL backend and set it as the current backend used by PicoQuant we call the following constructor. The input arguments are the names of the DSL script, tensor date file and output date file respectively. (Note, if no output file is given, results will be written to the tensor data file by default.)"
   ]
  },
  {
   "cell_type": "code",
   "execution_count": null,
   "metadata": {},
   "outputs": [],
   "source": [
    "# Initialise a DSL backend.\n",
    "DSLBackend(\"dsl_file.tl\", \"tensor_file.h5\", \"output_file.h5\")"
   ]
  },
  {
   "cell_type": "markdown",
   "metadata": {},
   "source": [
    "At this point, there should be a DSL backend set as the current backend and there should be an empty DSL script in the current directory. We now create a TensorNetworkCircuit instance, add a few quantum gates to it and then contract it. This will populate the DSL script with commands describing how to contract the tensor data."
   ]
  },
  {
   "cell_type": "code",
   "execution_count": null,
   "metadata": {},
   "outputs": [],
   "source": [
    "# Create a TensorNetworkCircuit and gate data.\n",
    "tn = TensorNetworkCircuit(3)\n",
    "hadamard_data = gate_tensor(:H)\n",
    "CNOT_data = gate_tensor(:CX)\n",
    "\n",
    "# The DSL backend will be used by these function to write the given gate data to tensor_file.h5 and \n",
    "# write 'tensor' commands to the DSL script.\n",
    "add_gate!(tn, hadamard_data, [1])\n",
    "add_gate!(tn, CNOT_data, [2, 1])\n",
    "add_gate!(tn, CNOT_data, [3, 2])\n",
    "add_input!(tn, \"000\")\n",
    "\n",
    "# This function will use the DSL backend to write ncon commands to the DSL script.\n",
    "full_wavefunction_contraction!(tn, \"vector\")"
   ]
  },
  {
   "cell_type": "markdown",
   "metadata": {},
   "source": [
    "We can now view the contents of the DSL script to see the commands generated by the DSL backend."
   ]
  },
  {
   "cell_type": "code",
   "execution_count": null,
   "metadata": {},
   "outputs": [],
   "source": [
    ";cat dsl_file.tl"
   ]
  },
  {
   "cell_type": "markdown",
   "metadata": {},
   "source": [
    "To get the output of the circuit we created, we call the function execute_dsl_file and pass it the DSL script and the tensor data HDF5 file. This will save the output of the circuit under the name \"result\" in the output file given to the DSL backend when it was created."
   ]
  },
  {
   "cell_type": "code",
   "execution_count": null,
   "metadata": {},
   "outputs": [],
   "source": [
    "execute_dsl_file(\"dsl_file.tl\", \"tensor_file.h5\")"
   ]
  },
  {
   "cell_type": "markdown",
   "metadata": {},
   "source": [
    "We can read the result of the above contraction as follows:"
   ]
  },
  {
   "cell_type": "code",
   "execution_count": null,
   "metadata": {},
   "outputs": [],
   "source": [
    "output = load_tensor_data(backend, :result)"
   ]
  }
 ],
 "metadata": {
  "kernelspec": {
   "display_name": "Julia 1.4.2",
   "language": "julia",
   "name": "julia-1.4"
  },
  "language_info": {
   "file_extension": ".jl",
   "mimetype": "application/julia",
   "name": "julia",
   "version": "1.4.2"
  }
 },
 "nbformat": 4,
 "nbformat_minor": 4
}
