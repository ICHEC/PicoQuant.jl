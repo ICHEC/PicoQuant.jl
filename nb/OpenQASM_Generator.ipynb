{
 "cells": [
  {
   "cell_type": "markdown",
   "metadata": {},
   "source": [
    "Overload the Irrational print statement to avoid printing the value of pi with symbol"
   ]
  },
  {
   "cell_type": "code",
   "execution_count": 1,
   "metadata": {},
   "outputs": [],
   "source": [
    "Base.show(io::IO, x::Irrational{sym}) where {sym} = print(io, \"$sym\")"
   ]
  },
  {
   "cell_type": "code",
   "execution_count": 104,
   "metadata": {},
   "outputs": [
    {
     "data": {
      "text/plain": [
       "generate_gate"
      ]
     },
     "execution_count": 104,
     "metadata": {},
     "output_type": "execute_result"
    }
   ],
   "source": [
    "\"\"\"\n",
    "    generate_gate(gate_name)\n",
    "\n",
    "Generates an OpenQASM-style gate structure string.\n",
    "The internals of {} can be replace with the appropriate\n",
    "values.\n",
    "\n",
    "# Examples\n",
    "```julia-repl\n",
    "julia> generate_gate(\"Q\")\n",
    "\\\"gate Q {}\\\"\n",
    "```\n",
    "\"\"\"\n",
    "function generate_gate(gate_name::String)\n",
    "   return \"gate \" * gate_name * \" {}\" \n",
    "end"
   ]
  },
  {
   "cell_type": "code",
   "execution_count": 4,
   "metadata": {},
   "outputs": [
    {
     "data": {
      "text/plain": [
       "Dict{String,String} with 0 entries"
      ]
     },
     "execution_count": 4,
     "metadata": {},
     "output_type": "execute_result"
    }
   ],
   "source": [
    "qasm_map = Dict{String, String}()"
   ]
  },
  {
   "cell_type": "code",
   "execution_count": 5,
   "metadata": {},
   "outputs": [],
   "source": [
    "qasm_map[\"U\"] = \"U(theta,phi,lambda) qReg[q_idx];\"\n",
    "qasm_map[\"CX\"] = \"CX c,t;\"\n",
    "qasm_map[\"T\"] = \"t qReg[q_idx];\"\n",
    "qasm_map[\"TDG\"] = \"tdg qReg[q_idx];\"\n",
    "qasm_map[\"S\"] = \"s qReg[q_idx];\"\n",
    "qasm_map[\"SDG\"] = \"sdg qReg[q_idx];\";"
   ]
  },
  {
   "cell_type": "code",
   "execution_count": 6,
   "metadata": {},
   "outputs": [],
   "source": [
    "struct BlochAngles\n",
    "    θ::Real\n",
    "    ϕ::Real\n",
    "    λ::Real\n",
    "end"
   ]
  },
  {
   "cell_type": "code",
   "execution_count": 7,
   "metadata": {},
   "outputs": [
    {
     "data": {
      "text/plain": [
       "piConvert (generic function with 1 method)"
      ]
     },
     "execution_count": 7,
     "metadata": {},
     "output_type": "execute_result"
    }
   ],
   "source": [
    "function piConvert(value::Real)\n",
    "    return typeof(value)<:Irrational{:π} ? \"pi\" : value\n",
    "end"
   ]
  },
  {
   "cell_type": "code",
   "execution_count": 88,
   "metadata": {},
   "outputs": [
    {
     "data": {
      "text/plain": [
       "applySwap (generic function with 1 method)"
      ]
     },
     "execution_count": 88,
     "metadata": {},
     "output_type": "execute_result"
    }
   ],
   "source": [
    "function applyGateU(angles::BlochAngles, qReg::String, qIdx::Union{Int, Nothing}=nothing)\n",
    "   \n",
    "    result = replace(qasm_map[\"U\"], \"theta\"=>piConvert(angles.θ))\n",
    "    result = replace(result, \"phi\"=>piConvert(angles.ϕ))\n",
    "    result = replace(result, \"lambda\"=>piConvert(angles.λ))\n",
    "    result = replace(result, \"qReg\"=>qReg)\n",
    "    \n",
    "    #If no index given, apply same ops across entire register\n",
    "    if qIdx == nothing \n",
    "        result = replace(result, \"[q_idx]\"=>\"\")\n",
    "    else # Otherwise apply op to given qubit index\n",
    "        result = replace(result, \"q_idx\"=>qIdx)\n",
    "    end\n",
    "    return result\n",
    "end\n",
    "\n",
    "#Pauli and Hadamard\n",
    "function applyGateX(qReg::String, qIdx::Union{Int, Nothing}=nothing)\n",
    "    return applyGateU( BlochAngles(pi, 0, pi), qReg, qIdx)\n",
    "end\n",
    "function applyGateY(qReg::String, qIdx::Union{Int, Nothing}=nothing)\n",
    "    return applyGateU( BlochAngles(pi, pi/2, pi/2), qReg, qIdx)\n",
    "end\n",
    "function applyGateZ(qReg::String, qIdx::Union{Int, Nothing}=nothing)\n",
    "    return applyGateU( BlochAngles(0, 0, pi), qReg, qIdx)\n",
    "end\n",
    "function applyGateH(qReg::String, qIdx::Union{Int, Nothing}=nothing)\n",
    "    return applyGateU( BlochAngles(pi/2, 0, pi), qReg, qIdx)\n",
    "end\n",
    "\n",
    "function applyGateT(qReg::String, qIdx::Union{Int, Nothing}=nothing, isAdjoint::Union{Bool, Nothing}=nothing)\n",
    "    #If no index given, apply same ops across entire register\n",
    "    if isAdjoint == nothing\n",
    "        result = qasm_map[\"T\"]\n",
    "    else\n",
    "        result = qasm_map[\"TDG\"]\n",
    "    end        \n",
    "    \n",
    "    result = replace(result, \"qReg\"=>qReg)\n",
    "    \n",
    "    if qIdx == nothing\n",
    "        result = replace(result, \"[q_idx]\"=>\"\")\n",
    "    else # Otherwise apply op to given qubit index\n",
    "        result = replace(result, \"q_idx\"=>qIdx)\n",
    "    end\n",
    "    return result\n",
    "end\n",
    "\n",
    "function applyGateS(qReg::String, qIdx::Union{Int, Nothing}=nothing, isAdjoint::Union{Bool, Nothing}=nothing)\n",
    "    #If no index given, apply same ops across entire register\n",
    "    if isAdjoint == nothing\n",
    "        result = qasm_map[\"S\"]\n",
    "    else\n",
    "        result = qasm_map[\"SDG\"]\n",
    "    end        \n",
    "    \n",
    "    result = replace(result, \"qReg\"=>qReg)\n",
    "    \n",
    "    if qIdx == nothing\n",
    "        result = replace(result, \"[q_idx]\"=>\"\")\n",
    "    else # Otherwise apply op to given qubit index\n",
    "        result = replace(result, \"q_idx\"=>qIdx)\n",
    "    end\n",
    "    return result\n",
    "end\n",
    "\n",
    "#Rotation\n",
    "function applyGateRX(qReg::String, θ::Real, qIdx::Union{Int, Nothing}=nothing)\n",
    "    return applyGateU( BlochAngles(θ,-pi/2,pi/2), qReg, qIdx)\n",
    "end\n",
    "function applyGateRY(qReg::String, θ::Real, qIdx::Union{Int, Nothing}=nothing)\n",
    "    return applyGateU( BlochAngles(θ,0,0), qReg, qIdx)\n",
    "end\n",
    "function applyGateRZ(qReg::String, ϕ::Real, qIdx::Union{Int, Nothing}=nothing)\n",
    "    return applyGateU( BlochAngles(0, 0, ϕ), qReg, qIdx)\n",
    "end\n",
    "\n",
    "#2 qubit\n",
    "function applyGateCX(qReg::String, qCtrlIdx::Int, qTgtIdx::Int)\n",
    "    result = replace(qasm_map[\"CX\"], \"c\"=>\"$qReg[$qCtrlIdx]\")\n",
    "    result = replace(result, \"t\"=>\"$qReg[$qTgtIdx]\")\n",
    "    return result\n",
    "end\n",
    "\n",
    "function applyGateCY(qReg::String, qCtrlIdx::Int, qTgtIdx::Int)\n",
    "    result =  applyGateU( BlochAngles(0, 0, -pi/2), qReg, qTgtIdx);\n",
    "    result *= applyGateCX(qReg, qCtrlIdx, qTgtIdx)\n",
    "    result *= applyGateU( BlochAngles(0, 0, pi/2), qReg, qTgtIdx);\n",
    "    return result\n",
    "end\n",
    "\n",
    "function applyGateCZ(qReg::String, qCtrlIdx::Int, qTgtIdx::Int)\n",
    "    result =  applyGateH(qReg, qTgtIdx)\n",
    "    result *= applyGateCX(qReg, qCtrlIdx, qTgtIdx)\n",
    "    result *= applyGateH(qReg, qTgtIdx)\n",
    "    return result \n",
    "end\n",
    "\n",
    "function applyGateCCX(qReg::String, qCtrlIdx1::Int, qCtrlIdx2::Int, qTgtIdx::Int)\n",
    "    result =  applyGateH(qReg, qTgtIdx)\n",
    "    result *= applyGateCX(qReg, qCtrlIdx2, qTgtIdx)\n",
    "    result *= applyGateT(qReg, qTgtIdx, true)\n",
    "    result *= applyGateCX(qReg, qCtrlIdx1, qTgtIdx)\n",
    "    result *= applyGateT(qReg, qTgtIdx, false)\n",
    "    result *= applyGateCX(qReg, qCtrlIdx2, qTgtIdx)\n",
    "    result *= applyGateT(qReg, qTgtIdx, true)\n",
    "    result *= applyGateCX(qReg, qCtrlIdx1, qTgtIdx)\n",
    "    result *= applyGateT(qReg, qCtrlIdx2, false)\n",
    "    result *= applyGateT(qReg, qTgtIdx, false)\n",
    "    result *= applyGateH(qReg, qTgtIdx)\n",
    "    result *= applyGateCX(qReg, qCtrlIdx1, qCtrlIdx2)\n",
    "    result *= applyGateT(qReg, qCtrlIdx1, false)\n",
    "    result *= applyGateT(qReg, qCtrlIdx2, true)\n",
    "    result *= applyGateCX(qReg, qCtrlIdx1, qCtrlIdx2)\n",
    "    return result \n",
    "end\n",
    "\n",
    "function applyGateCPhase(qReg::String, λ::Real, qCtrlIdx::Int, qTgtIdx::Int)\n",
    "    # [[1,0],[0, exp(iλ)]]\n",
    "    result =  applyGateU( BlochAngles(0, 0, λ/2), qReg, qCtrlIdx);\n",
    "    result *= applyGateCX(qReg, qCtrlIdx, qTgtIdx);\n",
    "    result *= applyGateU( BlochAngles(0, 0, -λ/2), qReg, qTgtIdx);\n",
    "    result *= applyGateCX(qReg, qCtrlIdx, qTgtIdx);\n",
    "    result *= applyGateU( BlochAngles(0, 0, λ/2), qReg, qTgtIdx);\n",
    "end\n",
    "\n",
    "function applySwap(qReg::String, q1::Int, q2::Int)\n",
    "    result =  applyGateCX(qReg, q1, q2)\n",
    "    result *= applyGateCX(qReg, q2, q1)\n",
    "    result *= applyGateCX(qReg, q1, q2)\n",
    "    return result\n",
    "end"
   ]
  },
  {
   "cell_type": "code",
   "execution_count": 103,
   "metadata": {},
   "outputs": [],
   "source": [
    "IBM_INC_HEADER=\"\"\"\n",
    "gate u3(theta,phi,lambda) q { U(theta,phi,lambda) q; }\n",
    "gate u2(phi,lambda) q { U(pi/2,phi,lambda) q; }\n",
    "gate u1(lambda) q { U(0,0,lambda) q; }\n",
    "gate cx c,t { CX c,t; }\n",
    "gate id a { U(0,0,0) a; }\n",
    "gate x a { u3(pi,0,pi) a; }\n",
    "gate y a { u3(pi,pi/2,pi/2) a; }\n",
    "gate z a { u1(pi) a; }\n",
    "gate h a { u2(0,pi) a; }\n",
    "gate rx(theta) a { u3(theta,-pi/2,pi/2) a; }\n",
    "gate ry(theta) a { u3(theta,0,0) a; }\n",
    "gate rz(phi) a { u1(phi) a; }\n",
    "gate cz a,b { h b; cx a,b; h b; }\n",
    "gate cy a,b { sdg b; cx a,b; s b; }\n",
    "gate ch a,b {h b; sdg b;cx a,b;h b; t b;cx a,b;t b; h b; s b; x b; s a;}\n",
    "gate ccx a,b,c{h c;cx b,c; tdg c;cx a,c; t c;cx b,c; tdg c;cx a,c; t b; t c; h c;cx a,b; t a; tdg b;cx a,b;}\n",
    "gate cu1(lambda) a,b{u1(lambda/2) a;cx a,b;u1(-lambda/2) b;cx a,b;u1(lambda/2) b;}\n",
    "gate cu3(theta,phi,lambda) c, t{u1((lambda-phi)/2) t;cx c,t;u3(-theta/2,0,-(phi+lambda)/2) t;cx c,t;u3(theta/2,phi,0) t;}\n",
    "\"\"\";"
   ]
  },
  {
   "cell_type": "code",
   "execution_count": 93,
   "metadata": {},
   "outputs": [
    {
     "data": {
      "text/plain": [
       "genIQFT (generic function with 1 method)"
      ]
     },
     "execution_count": 93,
     "metadata": {},
     "output_type": "execute_result"
    }
   ],
   "source": [
    "function genQFT(qReg::String, qubitIndices::Vector{Int})\n",
    "    circuit = \"\"\n",
    "    angle(k) = 2*pi / 2^k;\n",
    "    for (iidx,ival) = Iterators.reverse(enumerate(qubitIndices))\n",
    "        circuit *= applyGateH(qReg, iidx)\n",
    "        for (jidx,jval) = Iterators.reverse(enumerate(qubitIndices[1:iidx-1]))\n",
    "            theta = angle(iidx - jidx);\n",
    "            circuit *= applyGateCPhase(qReg, theta, jval, ival)\n",
    "        end\n",
    "    end\n",
    "    for idx = 1:div(length(qubitIndices),2)\n",
    "        circuit *= applySwap(qReg, v[idx], v[length(v)-idx+1])\n",
    "    end\n",
    "    return circuit\n",
    "end\n",
    "\n",
    "function genIQFT(qReg::String, qubitIndices::Vector{Int})\n",
    "    circuit = \"\"\n",
    "    angle(k) = -2*pi / 2^k;\n",
    "    for (iidx,ival) = enumerate(qubitIndices)\n",
    "        for (jidx,jval) = enumerate(qubitIndices[1:iidx-1])\n",
    "            theta = angle(iidx - jidx);\n",
    "            circuit *= applyGateCPhase(qReg, theta, jval, ival)\n",
    "        end\n",
    "        circuit *= applyGateH(qReg, iidx)\n",
    "\n",
    "    end\n",
    "    for idx = 1:div(length(qubitIndices),2)\n",
    "        circuit *= applySwap(qReg, v[idx], v[length(v)-idx+1])\n",
    "    end\n",
    "    return circuit\n",
    "end"
   ]
  },
  {
   "cell_type": "code",
   "execution_count": 99,
   "metadata": {},
   "outputs": [
    {
     "data": {
      "text/plain": [
       "\"U(1.5707963267948966,0,pi) q[4];U(0,0,1.5707963267948966) q[3];CX q[3],q[4];U(0,0,-1.5707963267948966) q[4];CX q[3],q[4];U(0,0,1.5707963267948966) q[4];U(0,0,0.7853981633974483) q[2];CX q[2],q[4];U(0,0,-0.7853981633974483) q[4];CX q[2],q[4];U(0,0,0.7853981633974483) q[4];U(0,0,0.39269908169872414) q[1];CX q[1],q[4];U(0,0,-0.39269908169872414) q[4];CX q[1],q[4];U(0,0,0.39269908169872414) q[4];U(1.5707963267948966,0,pi) q[3];U(0,0,1.5707963267948966) q[2];CX q[2],q[3];U(0,0,-1.5707963267948966) q[3];CX q[2],q[3];U(0,0,1.5707963267948966) q[3];U(0,0,0.7853981633974483) q[1];CX q[1],q[3];U(0,0,-0.7853981633974483) q[3];CX q[1],q[3];U(0,0,0.7853981633974483) q[3];U(1.5707963267948966,0,pi) q[2];U(0,0,1.5707963267948966) q[1];CX q[1],q[2];U(0,0,-1.5707963267948966) q[2];CX q[1],q[2];U(0,0,1.5707963267948966) q[2];U(1.5707963267948966,0,pi) q[1];CX q[1],q[4];CX q[4],q[1];CX q[1],q[4];CX q[2],q[3];CX q[3],q[2];CX q[2],q[3];\""
      ]
     },
     "execution_count": 99,
     "metadata": {},
     "output_type": "execute_result"
    }
   ],
   "source": [
    "cct = genQFT(\"q\",v)"
   ]
  },
  {
   "cell_type": "code",
   "execution_count": 100,
   "metadata": {},
   "outputs": [
    {
     "data": {
      "text/plain": [
       "formatStringNL (generic function with 1 method)"
      ]
     },
     "execution_count": 100,
     "metadata": {},
     "output_type": "execute_result"
    }
   ],
   "source": [
    "function formatStringNL(circuitOutput::String)\n",
    "    return replace(circuitOutput, \";\"=>\";\\n\")\n",
    "end"
   ]
  },
  {
   "cell_type": "code",
   "execution_count": 101,
   "metadata": {},
   "outputs": [
    {
     "name": "stdout",
     "output_type": "stream",
     "text": [
      "U(1.5707963267948966,0,pi) q[4];\n",
      "U(0,0,1.5707963267948966) q[3];\n",
      "CX q[3],q[4];\n",
      "U(0,0,-1.5707963267948966) q[4];\n",
      "CX q[3],q[4];\n",
      "U(0,0,1.5707963267948966) q[4];\n",
      "U(0,0,0.7853981633974483) q[2];\n",
      "CX q[2],q[4];\n",
      "U(0,0,-0.7853981633974483) q[4];\n",
      "CX q[2],q[4];\n",
      "U(0,0,0.7853981633974483) q[4];\n",
      "U(0,0,0.39269908169872414) q[1];\n",
      "CX q[1],q[4];\n",
      "U(0,0,-0.39269908169872414) q[4];\n",
      "CX q[1],q[4];\n",
      "U(0,0,0.39269908169872414) q[4];\n",
      "U(1.5707963267948966,0,pi) q[3];\n",
      "U(0,0,1.5707963267948966) q[2];\n",
      "CX q[2],q[3];\n",
      "U(0,0,-1.5707963267948966) q[3];\n",
      "CX q[2],q[3];\n",
      "U(0,0,1.5707963267948966) q[3];\n",
      "U(0,0,0.7853981633974483) q[1];\n",
      "CX q[1],q[3];\n",
      "U(0,0,-0.7853981633974483) q[3];\n",
      "CX q[1],q[3];\n",
      "U(0,0,0.7853981633974483) q[3];\n",
      "U(1.5707963267948966,0,pi) q[2];\n",
      "U(0,0,1.5707963267948966) q[1];\n",
      "CX q[1],q[2];\n",
      "U(0,0,-1.5707963267948966) q[2];\n",
      "CX q[1],q[2];\n",
      "U(0,0,1.5707963267948966) q[2];\n",
      "U(1.5707963267948966,0,pi) q[1];\n",
      "CX q[1],q[4];\n",
      "CX q[4],q[1];\n",
      "CX q[1],q[4];\n",
      "CX q[2],q[3];\n",
      "CX q[3],q[2];\n",
      "CX q[2],q[3];\n",
      "\n"
     ]
    }
   ],
   "source": [
    "println(formatStringNL(cct))"
   ]
  },
  {
   "cell_type": "code",
   "execution_count": null,
   "metadata": {},
   "outputs": [],
   "source": []
  }
 ],
 "metadata": {
  "kernelspec": {
   "display_name": "Julia 1.0.3",
   "language": "julia",
   "name": "julia-1.0"
  },
  "language_info": {
   "file_extension": ".jl",
   "mimetype": "application/julia",
   "name": "julia",
   "version": "1.0.5"
  }
 },
 "nbformat": 4,
 "nbformat_minor": 2
}
