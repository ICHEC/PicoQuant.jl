{
 "cells": [
  {
   "cell_type": "markdown",
   "metadata": {},
   "source": [
    "Use cases are being developed to demonstrate the usage of PicoQuant and for use in benchmarking and profiling activities."
   ]
  },
  {
   "cell_type": "markdown",
   "metadata": {},
   "source": [
    "## Quantum Fourier transfrom use case"
   ]
  },
  {
   "cell_type": "markdown",
   "metadata": {},
   "source": [
    "The Quantum Fourier Transform (QFT) is at the heart of many quantum algorithms. For this use case a simple implementation from [https://arxiv.org/abs/quant-ph/0201067](https://arxiv.org/abs/quant-ph/0201067) has been implemented. Here the gate count grows approximately with the square of the number of qubits. A methond called `create_qft_circuit` can be used to construct a qiskit circuit object for this circuit for a given number of qubits. For example to create a QFT circuit for 3 qubits one can use:"
   ]
  },
  {
   "cell_type": "code",
   "execution_count": null,
   "metadata": {},
   "outputs": [],
   "source": [
    "using PicoQuant\n",
    "\n",
    "qft_circ = create_qft_circuit(3)\n",
    "\n",
    "qft_circ.draw()"
   ]
  },
  {
   "cell_type": "markdown",
   "metadata": {},
   "source": [
    "We can convert this circuit to a tensor network circuit using the `convert_qiskit_circ_to_network` method as "
   ]
  },
  {
   "cell_type": "code",
   "execution_count": null,
   "metadata": {},
   "outputs": [],
   "source": [
    "tn = convert_qiskit_circ_to_network(qft_circ)\n",
    "plot(tn)"
   ]
  },
  {
   "cell_type": "markdown",
   "metadata": {},
   "source": [
    "We then add an all zero input state and use a full wavefunction contraction plan to contract the network."
   ]
  },
  {
   "cell_type": "code",
   "execution_count": null,
   "metadata": {},
   "outputs": [],
   "source": [
    "add_input!(tn, \"000\")\n",
    "full_wavefunction_contraction!(tn, \"vector\")\n",
    "psi = load_tensor_data(tn, :result)"
   ]
  },
  {
   "cell_type": "markdown",
   "metadata": {},
   "source": [
    "This gives the final transformed state. We can verify this is the correct answer by carrying out an inverse fourier transform on the input vector. Note that we switch the endianness before and after applying the IFFT so the conventions match."
   ]
  },
  {
   "cell_type": "code",
   "execution_count": null,
   "metadata": {},
   "outputs": [],
   "source": [
    "using FFTW\n",
    "\n",
    "function switch_endianness(vec)\n",
    "    n = convert(Int, log2(length(vec)))\n",
    "    vec = reshape(vec, Tuple([2 for _ in 1:n]))\n",
    "    vec = permutedims(vec, [i for i in n:-1:1])\n",
    "    reshape(vec, 2^n)\n",
    "end\n",
    "\n",
    "function get_ft_with_ifft(input_state)    \n",
    "    output_state = ifft(switch_endianness(input_state))\n",
    "    output_state /= sqrt(sum(output_state .* conj(output_state)))\n",
    "    switch_endianness(output_state)\n",
    "end\n",
    "\n",
    "input_state = zeros(ComplexF64, 8)\n",
    "input_state[1] = 1.\n",
    "get_ft_with_ifft(input_state)"
   ]
  },
  {
   "cell_type": "markdown",
   "metadata": {},
   "source": [
    "We can test with a less trivial input state by using a state preparation circuit to prepare a less trivial state. "
   ]
  },
  {
   "cell_type": "code",
   "execution_count": null,
   "metadata": {},
   "outputs": [],
   "source": [
    "prep_circ = create_simple_preparation_circuit(3, 2)\n",
    "prep_circ.draw()"
   ]
  },
  {
   "cell_type": "markdown",
   "metadata": {},
   "source": [
    "We combine this with the QFT circuit to apply the QFT to the prepared state and then run the full wavefunction contraction to get the final state"
   ]
  },
  {
   "cell_type": "code",
   "execution_count": null,
   "metadata": {},
   "outputs": [],
   "source": [
    "combined_circ = prep_circ.compose(qft_circ)\n",
    "tn = convert_qiskit_circ_to_network(combined_circ)\n",
    "add_input!(tn, \"000\")\n",
    "full_wavefunction_contraction!(tn, \"vector\")\n",
    "psi = load_tensor_data(tn, :result)"
   ]
  },
  {
   "cell_type": "markdown",
   "metadata": {},
   "source": [
    "To check that the output is correct we get the output of just the state preparation circuit and apply the IFFT with appropriate normalization (using the get_ft_with_ifft defined above)."
   ]
  },
  {
   "cell_type": "code",
   "execution_count": null,
   "metadata": {},
   "outputs": [],
   "source": [
    "tn = convert_qiskit_circ_to_network(prep_circ)\n",
    "add_input!(tn, \"000\")\n",
    "full_wavefunction_contraction!(tn, \"vector\")\n",
    "psi_input = load_tensor_data(tn, :result)\n",
    "ref_output = get_ft_with_ifft(psi_input)"
   ]
  },
  {
   "cell_type": "markdown",
   "metadata": {},
   "source": [
    "We see that these match."
   ]
  },
  {
   "cell_type": "markdown",
   "metadata": {},
   "source": [
    "## Grover search use case"
   ]
  },
  {
   "cell_type": "markdown",
   "metadata": {},
   "source": [
    "Grover's search is a seminal algorithm in quantum information processing, demonstrating $O\\left(\\sqrt{m}\\right)$ scaling for finding an item in a database search, compared to the optimal $O({m})$ using classical methods (https://arxiv.org/abs/quant-ph/9605043). Here we implement a use-case using a 5-qubit example with circuit depth that grows as $O\\left(n^2\\right)$ using the full state-vector implementation, and another with 11 qubits (split as 6 compute, 4 auxiliary, 1 result ), with circuit depth growing as $O\\left(n\\right)$ for the MPS example. These use an implemented $n$-controlled unitary library internally, which largely dictates the scaling of the examples.\n",
    "\n",
    "We begin by importing the *QuantExQASM* package, which is used to implement high-order methods for circuit generation. The resulting circuit is then convertable to OpenQASM, or directly to PicoQuant gate calls, depending upon the required functionality."
   ]
  },
  {
   "cell_type": "code",
   "execution_count": null,
   "metadata": {},
   "outputs": [],
   "source": [
    "using Pkg; Pkg.add(PackageSpec(url=\"https://github.com/ICHEC/QuantExQASM.jl\"))"
   ]
  },
  {
   "cell_type": "markdown",
   "metadata": {},
   "source": [
    "We choose the 5 qubit example initially, and assume no auxiliary qubits for the circuit. The function `create_grover_circuit` creates the required intermediate gates, generates the circuit, and exports it to a Qiskit circuit, for tensor network generation. \n",
    "\n",
    "For the chosen `bit_pattern` the resulting amplitude will be amplified following execution of the circuit."
   ]
  },
  {
   "cell_type": "code",
   "execution_count": null,
   "metadata": {},
   "outputs": [],
   "source": [
    "using PicoQuant"
   ]
  },
  {
   "cell_type": "code",
   "execution_count": null,
   "metadata": {},
   "outputs": [],
   "source": [
    "module CreateGroverCircuit\n",
    "    import QuantExQASM\n",
    "\n",
    "    export create_circuit\n",
    "\n",
    "    function create_circuit(num_qubits, use_aux_qubits, bit_pattern)\n",
    "        QuantExQASM.Algorithms.create_grover_circuit(num_qubits, use_aux_qubits, bit_pattern)\n",
    "    end \n",
    "end"
   ]
  },
  {
   "cell_type": "code",
   "execution_count": null,
   "metadata": {},
   "outputs": [],
   "source": [
    "num_qubits = 5\n",
    "use_aux_qubits = false\n",
    "bit_pattern = 10\n",
    "grover_cct = CreateGroverCircuit.create_circuit(num_qubits, use_aux_qubits, bit_pattern)\n",
    "tn_grover = convert_qiskit_circ_to_network(grover_cct)\n",
    "plot(tn_grover)"
   ]
  },
  {
   "cell_type": "markdown",
   "metadata": {},
   "source": [
    "Following the QFT example, we can obtain the wavefunction amplitudes by contracting the network. The index of the largest amplitude (-1) will match that of the chosen `bit_pattern` value."
   ]
  },
  {
   "cell_type": "code",
   "execution_count": null,
   "metadata": {},
   "outputs": [],
   "source": [
    "add_input!(tn_grover, \"0\"^num_qubits)\n",
    "psi_node = full_wavefunction_contraction!(tn_grover, \"vector\")\n",
    "psi = load_tensor_data(tn_grover, psi_node)"
   ]
  },
  {
   "cell_type": "code",
   "execution_count": null,
   "metadata": {},
   "outputs": [],
   "source": [
    "println(\"Index $(argmax(abs.(psi).^2)-1) is equal to bit-pattern $(bit_pattern) with amplitude $( (abs.(psi).^2)[bit_pattern+1] )\")"
   ]
  },
  {
   "cell_type": "code",
   "execution_count": null,
   "metadata": {},
   "outputs": [],
   "source": [
    "import Plots\n",
    "Plots.plot(0:(2^num_qubits-1), abs.(psi).^2, label=\"Amplitudes\", markershape=:auto)\n",
    "ground_truth = zeros(length(psi))\n",
    "ground_truth[bit_pattern + 1] = 1.0\n",
    "Plots.plot!(0:(2^num_qubits-1), ground_truth, label=\"Ground truth\", markershape=:auto, alpha=0.7)"
   ]
  },
  {
   "cell_type": "markdown",
   "metadata": {},
   "source": [
    "We can also use an optimised $n$-controlled unitary implementation to allow better scaling for larger circuits. This follows the implementation of https://arxiv.org/abs/quant-ph/9503016 which for an $n$-controlled unitary gate, we use an additional $n-2$ auxiliary qubits to reduce the overall depth. Here we demonstrate the example using 6 computational qubits, with an additional 4 for auxiliary (and 1 for the result).\n",
    "\n",
    "We make use of the MPS backend of PicoQuant to perform this contraction."
   ]
  },
  {
   "cell_type": "code",
   "execution_count": null,
   "metadata": {},
   "outputs": [],
   "source": [
    "num_qubits = 11\n",
    "use_aux_qubits = true\n",
    "bit_pattern = 14\n",
    "\n",
    "grover_cct_aux = CreateGroverCircuit.create_circuit(num_qubits, use_aux_qubits, bit_pattern)\n",
    "\n",
    "tn_grover_aux = convert_qiskit_circ_to_network(grover_cct_aux, decompose=true, transpile=true)\n",
    "plot(tn_grover_aux)"
   ]
  },
  {
   "cell_type": "code",
   "execution_count": null,
   "metadata": {},
   "outputs": [],
   "source": [
    "add_input!(tn_grover_aux, \"0\"^num_qubits)\n",
    "mps_nodes = contract_mps_tensor_network_circuit!(tn_grover_aux, max_bond=1)\n",
    "calculate_mps_amplitudes!(tn_grover_aux, mps_nodes)\n",
    "psi = load_tensor_data(tn_grover_aux, :result)\n",
    "println(\"Index $(argmax(abs.(psi).^2)-1) is equal to bit-pattern $(bit_pattern) with amplitude $( (abs.(psi).^2)[bit_pattern+1] )\")"
   ]
  },
  {
   "cell_type": "markdown",
   "metadata": {},
   "source": [
    "For both examples, the largest index is where we expect, showing the state is amplified appropriately."
   ]
  },
  {
   "cell_type": "code",
   "execution_count": null,
   "metadata": {},
   "outputs": [],
   "source": []
  }
 ],
 "metadata": {
  "@webio": {
   "lastCommId": null,
   "lastKernelId": null
  },
  "kernelspec": {
   "display_name": "Julia 1.5.3",
   "language": "julia",
   "name": "julia-1.5"
  },
  "language_info": {
   "file_extension": ".jl",
   "mimetype": "application/julia",
   "name": "julia",
   "version": "1.5.3"
  }
 },
 "nbformat": 4,
 "nbformat_minor": 4
}
