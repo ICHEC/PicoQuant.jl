{
 "cells": [
  {
   "cell_type": "markdown",
   "metadata": {},
   "source": [
    "Use cases are being developed to demonstrate the usage of PicoQuant and for use in benchmarking and profiling activities."
   ]
  },
  {
   "cell_type": "markdown",
   "metadata": {},
   "source": [
    "## Quantum Fourier transfrom use case"
   ]
  },
  {
   "cell_type": "markdown",
   "metadata": {},
   "source": [
    "The Quantum Fourier Transform (QFT) is at the heart of many quantum algorithms. For this use case a simple implementation from [https://arxiv.org/abs/quant-ph/0201067](https://arxiv.org/abs/quant-ph/0201067) has been implemented. Here the gate count grows approximately with the square of the number of qubits. A methond called `create_qft_circuit` can be used to construct a qiskit circuit object for this circuit for a given number of qubits. For example to create a QFT circuit for 3 qubits one can use:"
   ]
  },
  {
   "cell_type": "code",
   "execution_count": null,
   "metadata": {},
   "outputs": [],
   "source": [
    "using PicoQuant\n",
    "\n",
    "qft_circ = create_qft_circuit(3)\n",
    "\n",
    "qft_circ.draw()"
   ]
  },
  {
   "cell_type": "markdown",
   "metadata": {},
   "source": [
    "We can convert this circuit to a tensor network circuit using the `convert_qiskit_circ_to_network` method as "
   ]
  },
  {
   "cell_type": "code",
   "execution_count": null,
   "metadata": {},
   "outputs": [],
   "source": [
    "InteractiveBackend()\n",
    "tn = convert_qiskit_circ_to_network(qft_circ)\n",
    "plot(tn)"
   ]
  },
  {
   "cell_type": "markdown",
   "metadata": {},
   "source": [
    "We then add an all zero input state and use a full wavefunction contraction plan to contract the network."
   ]
  },
  {
   "cell_type": "code",
   "execution_count": null,
   "metadata": {},
   "outputs": [],
   "source": [
    "add_input!(tn, \"000\")\n",
    "full_wavefunction_contraction!(tn, \"vector\")\n",
    "psi = load_tensor_data(backend, :result)"
   ]
  },
  {
   "cell_type": "markdown",
   "metadata": {},
   "source": [
    "This gives the final transformed state. We can verify this is the correct answer by carrying out an inverst fourier transform on the input vector."
   ]
  },
  {
   "cell_type": "code",
   "execution_count": null,
   "metadata": {},
   "outputs": [],
   "source": [
    "using FFTW\n",
    "\n",
    "function get_ft_with_ifft(input_state)\n",
    "    output_state = ifft(input_state)\n",
    "    output_state / sqrt(sum(output_state .* conj(output_state)))\n",
    "end\n",
    "\n",
    "input_state = zeros(ComplexF64, 8)\n",
    "input_state[1] = 1.\n",
    "get_ft_with_ifft(input_state)"
   ]
  },
  {
   "cell_type": "markdown",
   "metadata": {},
   "source": [
    "We can test with a less trivial input state by using a state preparation circuit to prepare a less trivial state. "
   ]
  },
  {
   "cell_type": "code",
   "execution_count": null,
   "metadata": {},
   "outputs": [],
   "source": [
    "prep_circ = create_simple_preparation_circuit(3, 2)\n",
    "prep_circ.draw()"
   ]
  },
  {
   "cell_type": "markdown",
   "metadata": {},
   "source": [
    "We combine this with the QFT circuit to apply the QFT to the prepared state and then run the full wavefunction contraction to get the final state"
   ]
  },
  {
   "cell_type": "code",
   "execution_count": null,
   "metadata": {},
   "outputs": [],
   "source": [
    "combined_circ = prep_circ.compose(qft_circ)\n",
    "tn = convert_qiskit_circ_to_network(combined_circ)\n",
    "add_input!(tn, \"000\")\n",
    "psi = full_wavefunction_contraction!(tn, \"vector\")"
   ]
  },
  {
   "cell_type": "markdown",
   "metadata": {},
   "source": [
    "To check that the output is correct we get the output of just the state preparation circuit and apply the IFFT with appropriate normalization (using the get_ft_with_ifft defined above)."
   ]
  },
  {
   "cell_type": "code",
   "execution_count": null,
   "metadata": {},
   "outputs": [],
   "source": [
    "tn = convert_qiskit_circ_to_network(prep_circ)\n",
    "add_input!(tn, \"000\")\n",
    "psi_input = full_wavefunction_contraction!(tn, \"vector\")\n",
    "ref_output = get_ft_with_ifft(psi_input)"
   ]
  },
  {
   "cell_type": "markdown",
   "metadata": {},
   "source": [
    "We see that this matches the state we got above (doesn't exactly at the minute due to a re-ordering issue which should be resolved shortly)."
   ]
  },
  {
   "cell_type": "markdown",
   "metadata": {},
   "source": [
    "## Grover search use case"
   ]
  }
 ],
 "metadata": {
  "@webio": {
   "lastCommId": null,
   "lastKernelId": null
  },
  "kernelspec": {
   "display_name": "Julia 1.3.1",
   "language": "julia",
   "name": "julia-1.3"
  },
  "language_info": {
   "file_extension": ".jl",
   "mimetype": "application/julia",
   "name": "julia",
   "version": "1.3.1"
  }
 },
 "nbformat": 4,
 "nbformat_minor": 4
}
