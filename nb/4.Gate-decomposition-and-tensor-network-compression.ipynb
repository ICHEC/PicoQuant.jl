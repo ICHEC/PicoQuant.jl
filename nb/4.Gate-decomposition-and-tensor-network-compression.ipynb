{
 "cells": [
  {
   "cell_type": "markdown",
   "metadata": {},
   "source": [
    "At the heart of many tensor network algorithms are tensor decomposition and compression operations. These are particularly useful for Matrix Product State (MPS) based algorithms where they are used to compress virtual bonds between tensors. This can lead to more memory efficient representations and also more efficient compute operations."
   ]
  },
  {
   "cell_type": "markdown",
   "metadata": {},
   "source": [
    "## Tensor Decomposition"
   ]
  },
  {
   "cell_type": "markdown",
   "metadata": {},
   "source": [
    "In PicoQuant, we have implemented a tensor decomposition operation which works by:\n",
    "\n",
    "1. Reshaping the tensor to matrix\n",
    "2. Applying matrix decomposition methods (SVD used at present but QR should work also)\n",
    "3. Applying a cutoff and discarding any singular values and corresponding matrix rows/columns below the given threshold\n",
    "4. Reshaping the resulting matrices to end up with two tensors connected by a virtual bond"
   ]
  },
  {
   "cell_type": "markdown",
   "metadata": {},
   "source": [
    "We demonstrate its use by decomposing a two-qubit CNOT gate into two tensors, each acting on a different qubit."
   ]
  },
  {
   "cell_type": "code",
   "execution_count": null,
   "metadata": {},
   "outputs": [],
   "source": [
    "using PicoQuant"
   ]
  },
  {
   "cell_type": "markdown",
   "metadata": {},
   "source": [
    "The first thing we do is create a tensor network circuit with two qubits with a single CNOT gate acting on these."
   ]
  },
  {
   "cell_type": "code",
   "execution_count": null,
   "metadata": {},
   "outputs": [],
   "source": [
    "# create empty tensor network circuit with 2 qubits\n",
    "tn = TensorNetworkCircuit(2)\n",
    "\n",
    "# add a 2 qubit CNOT gate\n",
    "println(\"CX dims: $(size(gate_tensor(:CX)))\")\n",
    "add_gate!(tn, gate_tensor(:CX), [1, 2]);"
   ]
  },
  {
   "cell_type": "markdown",
   "metadata": {},
   "source": [
    "We add input and output nodes so that when we plot the network, it will display the outgoing index labels."
   ]
  },
  {
   "cell_type": "code",
   "execution_count": null,
   "metadata": {},
   "outputs": [],
   "source": [
    "add_input!(tn, \"00\")\n",
    "add_output!(tn, \"00\")\n",
    "plot(tn, showlabels=true)"
   ]
  },
  {
   "cell_type": "markdown",
   "metadata": {},
   "source": [
    "Next we call the `decompose_tensor!` method to decompose the two qubit gate. We pass the tensor network circuit, the symbol for the node we wish to decompose and two arrays of symbols for the sets of indices each of the decomposed tensors will have."
   ]
  },
  {
   "cell_type": "code",
   "execution_count": null,
   "metadata": {},
   "outputs": [],
   "source": [
    "new_nodes = decompose_tensor!(tn, :node_1, [:index_1, :index_3], [:index_2, :index_4], threshold=0.2)"
   ]
  },
  {
   "cell_type": "markdown",
   "metadata": {},
   "source": [
    "This method returns the symbols of the decomposed tensors (also possible to provide these as optional arguments to reuse the same label). Next we check the dimensions of the new nodes and plot the new tensor network."
   ]
  },
  {
   "cell_type": "code",
   "execution_count": null,
   "metadata": {},
   "outputs": [],
   "source": [
    "getnode(tn, new_nodes[1]).dims, getnode(tn, new_nodes[2]).dims"
   ]
  },
  {
   "cell_type": "code",
   "execution_count": null,
   "metadata": {},
   "outputs": [],
   "source": [
    "plot(tn, showlabels=true)"
   ]
  },
  {
   "cell_type": "markdown",
   "metadata": {},
   "source": [
    "We see that the rank four tensor has been replaced by two rank three tensors connected with a virtual bond of dimension 2. Because it is often the case that one would want to decompose the tensor for two-qubit gates into tensors acting on each individual gate, this decomposition can be done in PicoQuant when adding the gate to the circuit (`add_gate!` method) or creating a tensor network circuit object from a qiskit circuit object (`convert_qiskit_circ_to_network` method) by passing `decompose=true` to these methods. For example, for the circuit above with the single CNOT gate, this would proceed something like. "
   ]
  },
  {
   "cell_type": "code",
   "execution_count": null,
   "metadata": {},
   "outputs": [],
   "source": [
    "tn = TensorNetworkCircuit(2)\n",
    "add_input!(tn, \"00\")\n",
    "add_output!(tn, \"00\")\n",
    "add_gate!(tn, gate_tensor(:CX), [1, 2], decompose=true)\n",
    "plot(tn, showlabels=true)"
   ]
  },
  {
   "cell_type": "markdown",
   "metadata": {},
   "source": [
    "### Manual decomposition"
   ]
  },
  {
   "cell_type": "markdown",
   "metadata": {},
   "source": [
    "To show a little more clearly what is going on here, we show each step that explicitly when decomposing the two qubit CX gate, involving:\n",
    "1. Permuting the indices\n",
    "2. Reshape to a matrix\n",
    "3. Applying the SVD\n",
    "4. Applying threshold on singular values and reshaping"
   ]
  },
  {
   "cell_type": "code",
   "execution_count": null,
   "metadata": {},
   "outputs": [],
   "source": [
    "using LinearAlgebra\n",
    "\n",
    "A = gate_tensor(:CX)\n",
    "\n",
    "A = permutedims(A, (1, 3, 2, 4)) # 1. permute indices\n",
    "\n",
    "A = reshape(A, (4, 4)) # 2. reshape to matrix\n",
    "\n",
    "F = svd(A) # 3. apply SVD\n",
    "\n",
    "println(\"Singular values: $(F.S)\")\n",
    "\n",
    "# 4. Apply threshold and reshape\n",
    "threshold = 0.2\n",
    "chi = sum(F.S ./ sqrt(sum(F.S.^2)) .> threshold) # apply threshold to normalised singular values\n",
    "println(\"$(chi) values over the threshold\")\n",
    "\n",
    "S = F.S[1:chi] # truncate to values over the threshold\n",
    "\n",
    "# Scale by the square root of singular values and reshape to get left and right nodes\n",
    "left_node = reshape(F.U[:, 1:chi] * Diagonal(sqrt.(S)), (2, 2, chi))\n",
    "right_node = reshape(Diagonal(sqrt.(S)) * F.Vt[1:chi, :], (chi, 2, 2));"
   ]
  },
  {
   "cell_type": "markdown",
   "metadata": {},
   "source": [
    "## Tensor Network Compression"
   ]
  },
  {
   "cell_type": "markdown",
   "metadata": {},
   "source": [
    "Compression of a tensor network can be achieved via a sequence of contraction and decomposition operations. For states which are not maximally entangled this process can be used for lossless compression. Where states are entanglement, this process can be used to find an approximation with a fidelity related to the bond dimension retained at each decomposition step. Note that tensor network representations of a given state are not unique and the compression procedure is not guaranteed to find the optimal compression except in the special case of 1D systems when the decomposition is applied to bonds in a mixed canonical Matrix Product State (MPS). To understand why this is see [arxiv:1008.3477](https://arxiv.org/abs/1008.3477). "
   ]
  },
  {
   "cell_type": "markdown",
   "metadata": {},
   "source": [
    "### Bond and chain compression"
   ]
  },
  {
   "cell_type": "markdown",
   "metadata": {},
   "source": [
    "In PicoQuant, the `compress_bond!` method compresses a bond between tensors by:\n",
    "\n",
    "1. Contracting the two tensors to a single tensor\n",
    "2. Decomposing the tensor back to two separate tensors using the `decompose_tensor!` method explained above\n",
    "\n",
    "The `compress_tensor_chain!` applies the `compress_bond!` method to the bonds between the given list of tensors, performing two sweeps. This compresses a chain of tensors also called an Matrix Product State (MPS). Next we show an example of this in use."
   ]
  },
  {
   "cell_type": "code",
   "execution_count": null,
   "metadata": {},
   "outputs": [],
   "source": [
    "# create the tensor network circuit and add 0's for input\n",
    "tn = TensorNetworkCircuit(3)\n",
    "add_input!(tn, \"000\")"
   ]
  },
  {
   "cell_type": "markdown",
   "metadata": {},
   "source": [
    "Next we look at the nodes and print the size of the tensor for each."
   ]
  },
  {
   "cell_type": "code",
   "execution_count": null,
   "metadata": {},
   "outputs": [],
   "source": [
    "for node_sym in [:node_1, :node_2, :node_3]\n",
    "    println(\"$node_sym dim: $(getnode(tn, node_sym).dims)\")\n",
    "end"
   ]
  },
  {
   "cell_type": "markdown",
   "metadata": {},
   "source": [
    "We see that each node is a rank one tensor (a vector) of dimension 2 and there are no virtual bonds as this is a product state. We now apply compression along the tensor chain."
   ]
  },
  {
   "cell_type": "code",
   "execution_count": null,
   "metadata": {},
   "outputs": [],
   "source": [
    "# apply compression\n",
    "compress_tensor_chain!(tn, [:node_1, :node_2, :node_3])"
   ]
  },
  {
   "cell_type": "markdown",
   "metadata": {},
   "source": [
    "And print the dimension of the resulting tensors."
   ]
  },
  {
   "cell_type": "code",
   "execution_count": null,
   "metadata": {},
   "outputs": [],
   "source": [
    "for node_sym in [:node_1, :node_2, :node_3]\n",
    "    println(\"$node_sym dim: $(getnode(tn, node_sym).dims)\")\n",
    "end"
   ]
  },
  {
   "cell_type": "markdown",
   "metadata": {},
   "source": [
    "We see that there are no additional virtual bonds of dimension 1 connecting tensors. It is always possible to add and remove bonds of dimension one."
   ]
  },
  {
   "cell_type": "markdown",
   "metadata": {},
   "source": [
    "For a less trivial example we can create a chain with a large bond dimension and then apply the compression. First we create a circuit with a number of random 2 qubit gates applied."
   ]
  },
  {
   "cell_type": "code",
   "execution_count": null,
   "metadata": {},
   "outputs": [],
   "source": [
    "# create the tensor network circuit and add 0's for input\n",
    "n = 4\n",
    "tn = TensorNetworkCircuit(n)\n",
    "# tn = TensorNetworkCircuit(3, DSLBackend(\"contract_network.tl\", \"data.h5\", \"output.h5\", true))\n",
    "for i in 1:4\n",
    "    for j in 1:n-1\n",
    "        add_gate!(tn, randn(2, 2, 2, 2), [j , j+1], decompose=true) # add random 2 qubit gates\n",
    "    end\n",
    "end\n",
    "add_input!(tn, \"0\"^n)\n",
    "plot(tn, showlabels=true)"
   ]
  },
  {
   "cell_type": "markdown",
   "metadata": {},
   "source": [
    "Contracting this network in order will result in the bond dimension between tensors growing."
   ]
  },
  {
   "cell_type": "code",
   "execution_count": null,
   "metadata": {},
   "outputs": [],
   "source": [
    "inorder_contraction!(tn)"
   ]
  },
  {
   "cell_type": "code",
   "execution_count": null,
   "metadata": {},
   "outputs": [],
   "source": [
    "node_syms = [tn.edges[x].src for x in tn.output_qubits]\n",
    "for node_sym in node_syms\n",
    "    println(\"$node_sym dim: $(getnode(tn, node_sym).dims)\")\n",
    "end"
   ]
  },
  {
   "cell_type": "markdown",
   "metadata": {},
   "source": [
    "We see that the virtual bond between tensors has grown sigificantly (note that we have to do a little work to get the nodes in the correct ordering by looking at the source for each of the output edges). We next compress a single bond with the `compress_bond!` method before compressing the rest of the chain with the `compress_tensor_cahin!` method."
   ]
  },
  {
   "cell_type": "code",
   "execution_count": null,
   "metadata": {},
   "outputs": [],
   "source": [
    "compress_bond!(tn, :node_47, :node_49)"
   ]
  },
  {
   "cell_type": "code",
   "execution_count": null,
   "metadata": {},
   "outputs": [],
   "source": [
    "node_syms = [tn.edges[x].src for x in tn.output_qubits]\n",
    "for node_sym in node_syms\n",
    "    println(\"$node_sym dim: $(getnode(tn, node_sym).dims)\")\n",
    "end"
   ]
  },
  {
   "cell_type": "markdown",
   "metadata": {},
   "source": [
    "We see that the bond dimension between the first two tensors has been reduced from 256 to 2. We can compress the rest of the chain with."
   ]
  },
  {
   "cell_type": "code",
   "execution_count": null,
   "metadata": {},
   "outputs": [],
   "source": [
    "compress_tensor_chain!(tn, node_syms)"
   ]
  },
  {
   "cell_type": "code",
   "execution_count": null,
   "metadata": {},
   "outputs": [],
   "source": [
    "for node_sym in node_syms\n",
    "    println(\"$node_sym dim: $(getnode(tn, node_sym).dims)\")\n",
    "end"
   ]
  },
  {
   "cell_type": "markdown",
   "metadata": {},
   "source": [
    "Which results in the fully compressed state. Note that the bond dimension in each case is less than the maximum bound, which for an open MPS is $min(d_A, d_B)$ where $d_A$ and $d_B$ are the dimensions of the Hilbert space of the subsystems on either side of the bond."
   ]
  },
  {
   "cell_type": "markdown",
   "metadata": {},
   "source": [
    "## MPS contraction"
   ]
  },
  {
   "cell_type": "markdown",
   "metadata": {},
   "source": [
    "Using these compression operations, we can contract a tensor network while keeping the bond dimension from \n",
    "\n",
    "1. Growing beyond the maximum bound in the case where exact contraction is of interest\n",
    "2. Growing beyond a given bound where approximate results are acceptable\n",
    "\n",
    "The `contract_mps_tensor_network_circuit!` function does exactly this which we will now demonstrate with some examples."
   ]
  },
  {
   "cell_type": "markdown",
   "metadata": {},
   "source": [
    "### Simple Preparation Circuit"
   ]
  },
  {
   "cell_type": "markdown",
   "metadata": {},
   "source": [
    "We demonstrate contraction with the MPS contraction approach using a simple random preparation circuit which contains alternating layers of single qubit gates and entangling gates. First we create the circuit"
   ]
  },
  {
   "cell_type": "code",
   "execution_count": null,
   "metadata": {},
   "outputs": [],
   "source": [
    "number_qubits = 6\n",
    "depth = 10\n",
    "circ = create_simple_preparation_circuit(number_qubits, depth)\n",
    "circ.draw()"
   ]
  },
  {
   "cell_type": "markdown",
   "metadata": {},
   "source": [
    "We contract using the full wavefunction approach to get the expected output state vector."
   ]
  },
  {
   "cell_type": "code",
   "execution_count": null,
   "metadata": {},
   "outputs": [],
   "source": [
    "tn = convert_qiskit_circ_to_network(circ)\n",
    "add_input!(tn, \"0\"^number_qubits)\n",
    "output_node = full_wavefunction_contraction!(tn, \"vector\")\n",
    "psi_exact = load_tensor_data(tn, output_node);"
   ]
  },
  {
   "cell_type": "markdown",
   "metadata": {},
   "source": [
    "Next we contract using the MPS contraction approach with no cut off on the bond dimension which should provide an exact state. We also print the dimensions of the final tensors to show the how large the bond dimension grows."
   ]
  },
  {
   "cell_type": "code",
   "execution_count": null,
   "metadata": {},
   "outputs": [],
   "source": [
    "tn = convert_qiskit_circ_to_network(circ, decompose=true, transpile=true)\n",
    "add_input!(tn, \"0\"^number_qubits)\n",
    "mps_nodes = contract_mps_tensor_network_circuit!(tn)\n",
    "@show [tn.nodes[x].dims for x in mps_nodes]\n",
    "psi_exact_mps = calculate_mps_amplitudes!(tn, mps_nodes);"
   ]
  },
  {
   "cell_type": "markdown",
   "metadata": {},
   "source": [
    "Next we contract with different bond dimension cutoffs and plot the probability amplitudes of the output state along side the exact results."
   ]
  },
  {
   "cell_type": "code",
   "execution_count": null,
   "metadata": {},
   "outputs": [],
   "source": [
    "import Plots\n",
    "\n",
    "Plots.plot(abs.(psi_exact).^2, label=\"Full WF Exact\")\n",
    "p = Plots.plot!(abs.(psi_exact_mps).^2, label=\"MPS Exact\")\n",
    "println(\"MPS exact has overlap: $(abs(psi_exact' * psi_exact_mps)^2)\")\n",
    "for max_rank in [2, 4, 6]\n",
    "    tn = convert_qiskit_circ_to_network(circ, decompose=true, transpile=true)\n",
    "    add_input!(tn, \"0\"^number_qubits)\n",
    "    mps_nodes = contract_mps_tensor_network_circuit!(tn, max_rank=max_rank)\n",
    "    psi_approx_mps = calculate_mps_amplitudes!(tn, mps_nodes)\n",
    "    println(\"Max rank $(max_rank) has overlap: $(abs(psi_exact' * psi_approx_mps)^2)\")\n",
    "    global p = Plots.plot!(abs.(psi_approx_mps).^2, label=\"MPS Bond $(max_rank)\", ylabel=\"Probability amplitudes\")\n",
    "end\n",
    "p"
   ]
  },
  {
   "cell_type": "markdown",
   "metadata": {},
   "source": [
    "We can see that as the bond dimension cut off is increated, the quality of the approximation to the exact state and overlap increases. Using this approach it's possible to get good approximations of the output state more efficiently than full wave-function simulation."
   ]
  },
  {
   "cell_type": "markdown",
   "metadata": {},
   "source": [
    "### Access output amplitudes"
   ]
  },
  {
   "cell_type": "markdown",
   "metadata": {},
   "source": [
    "In the above calculations, following the MPS contraction we used the `calculate_mps_amplitudes!` function. This contracts the resulting MPS tensors into a single tensor and then reshapes this into a vector of output amplitudes. For large systems this will not be feasible due to the memory required to store all the amplitudes. Instead it is possible to access individual amplitudes of the resulting MPS state which can be done using the MPSState type. This structure provides an array like interface to the amplitudes which accepts either a configuration string or index.\n",
    "\n",
    "We demonstrate this by contracting a 1000 qubit GHZ state preparation circuit and returning only a subset of the amplitudes. This would not be possible using the full wave-function simulation approach."
   ]
  },
  {
   "cell_type": "code",
   "execution_count": null,
   "metadata": {},
   "outputs": [],
   "source": [
    "n = 1000\n",
    "circ = create_ghz_preparation_circuit(n)\n",
    "tn = convert_qiskit_circ_to_network(circ, decompose=true)\n",
    "add_input!(tn, \"0\"^n)\n",
    "mps_nodes = contract_mps_tensor_network_circuit!(tn)\n",
    "psi = MPSState(tn, mps_nodes);"
   ]
  },
  {
   "cell_type": "code",
   "execution_count": null,
   "metadata": {},
   "outputs": [],
   "source": [
    "@show psi[\"0\"^n]\n",
    "@show psi[\"1\"^n]\n",
    "@show psi[join(rand([\"0\", \"1\"], n))]"
   ]
  },
  {
   "cell_type": "code",
   "execution_count": null,
   "metadata": {},
   "outputs": [],
   "source": []
  }
 ],
 "metadata": {
  "@webio": {
   "lastCommId": null,
   "lastKernelId": null
  },
  "kernelspec": {
   "display_name": "Julia 1.5.3",
   "language": "julia",
   "name": "julia-1.5"
  },
  "language_info": {
   "file_extension": ".jl",
   "mimetype": "application/julia",
   "name": "julia",
   "version": "1.5.3"
  }
 },
 "nbformat": 4,
 "nbformat_minor": 4
}
