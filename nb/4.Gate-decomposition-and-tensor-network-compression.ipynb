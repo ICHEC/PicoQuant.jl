{
 "cells": [
  {
   "cell_type": "markdown",
   "metadata": {},
   "source": [
    "At the heart of many tensor network algorithms are tensor decomposition and compression operations. These are particularly useful for Matrix Product State (MPS) based algorithms where they are used to compress virtual bonds between tensors. This can lead to a more memory efficient representations and also more efficient compute operations."
   ]
  },
  {
   "cell_type": "markdown",
   "metadata": {},
   "source": [
    "## Tensor Decomposition"
   ]
  },
  {
   "cell_type": "markdown",
   "metadata": {},
   "source": [
    "In PicoQuant, we have implemented a tensor decomposition operation which works by:\n",
    "\n",
    "1. Reshaping the tensor to matrix\n",
    "2. Applying matrix decomposition methods (SVD used at present but QR should work also)\n",
    "3. Applying a cutoff and discarding any singular values and corresponding matrix rows/columns below the given threshold\n",
    "4. Reshaping the resulting matrices to end up with two tensors connected by a virtual bond"
   ]
  },
  {
   "cell_type": "markdown",
   "metadata": {},
   "source": [
    "We demonstrate its use by decomposing a two-qubit CNOT gate into two tensors, each acting on a different qubit."
   ]
  },
  {
   "cell_type": "code",
   "execution_count": null,
   "metadata": {},
   "outputs": [],
   "source": [
    "using PicoQuant"
   ]
  },
  {
   "cell_type": "markdown",
   "metadata": {},
   "source": [
    "The first thing we do is create a tensor network circuit with two qubits with a single CNOT gate acting on these."
   ]
  },
  {
   "cell_type": "code",
   "execution_count": null,
   "metadata": {},
   "outputs": [],
   "source": [
    "# we will create an interactive backend so operations will be executed interactively\n",
    "InteractiveBackend()\n",
    "\n",
    "# create empty tensor network circuit with 2 qubits\n",
    "tn = TensorNetworkCircuit(2)\n",
    "\n",
    "# add a 2 qubit CNOT gate\n",
    "println(\"CX dims: $(size(gate_tensor(:CX)))\")\n",
    "add_gate!(tn, gate_tensor(:CX), [1, 2]);"
   ]
  },
  {
   "cell_type": "markdown",
   "metadata": {},
   "source": [
    "We add input and output nodes so that when we plot the network, it will display the outgoing index labels."
   ]
  },
  {
   "cell_type": "code",
   "execution_count": null,
   "metadata": {},
   "outputs": [],
   "source": [
    "add_input!(tn, \"00\")\n",
    "add_output!(tn, \"00\")\n",
    "plot(tn, showlabels=true)"
   ]
  },
  {
   "cell_type": "markdown",
   "metadata": {},
   "source": [
    "Next we call the `decompose_tensor!` method to decompose the two qubit gate. We pass the tensor network circuit, the symbol for the node we wish to decompose and two arrays of symbols for the sets of indices each of the decomposed tensors will have."
   ]
  },
  {
   "cell_type": "code",
   "execution_count": null,
   "metadata": {},
   "outputs": [],
   "source": [
    "decompose_tensor!(tn, :node_1, [:index_1, :index_3], [:index_2, :index_4], threshold=0.75)"
   ]
  },
  {
   "cell_type": "markdown",
   "metadata": {},
   "source": [
    "This method returns the symbols of the decomposed tensors (also possible to provide these as optional arguments)."
   ]
  },
  {
   "cell_type": "code",
   "execution_count": null,
   "metadata": {},
   "outputs": [],
   "source": [
    "size(load_tensor_data(backend, :node_6))"
   ]
  },
  {
   "cell_type": "code",
   "execution_count": null,
   "metadata": {},
   "outputs": [],
   "source": [
    "plot(tn, showlabels=true)"
   ]
  },
  {
   "cell_type": "markdown",
   "metadata": {},
   "source": [
    "After this we can see that the rank four tensor has been replaced by two rank three tensors connected with a virtual bond. Because it is often the case that one would want to decompose the tensor for two-qubit gates into tensors acting on each individual gate, this decomposition can be done in PicoQuant when adding the gate to the circuit (`add_gate!` method) or creating a tensor network circuit object from a qiskit circuit object (`convert_qiskit_circ_to_network` method) by passing `decompose=true` to these methods. For example, for the circuit above with the single CNOT gate, this would proceed something like. "
   ]
  },
  {
   "cell_type": "code",
   "execution_count": null,
   "metadata": {},
   "outputs": [],
   "source": [
    "tn = TensorNetworkCircuit(2)\n",
    "add_input!(tn, \"00\")\n",
    "add_output!(tn, \"00\")\n",
    "add_gate!(tn, gate_tensor(:CX), [1, 2], decompose=true)\n",
    "plot(tn, showlabels=true)"
   ]
  },
  {
   "cell_type": "markdown",
   "metadata": {},
   "source": [
    "## Tensor Network Compression"
   ]
  },
  {
   "cell_type": "markdown",
   "metadata": {},
   "source": [
    "Compression of a tensor network can be achieved via a sequence of contraction and decomposition operations. There is a caveat that this generally only works for a 1D chain of tensors (for > 2d networks, one can map to a 1D network or contract along the additional dimensions to arrive at a 1d network). \n",
    "\n",
    "In PicoQuant, the `compress_tensor_chain!` method compresses a chain of tensors by performing forward and backward passes over the nodes given and compressing the bonds between nodes. The compression of each bond proceeds by:\n",
    "\n",
    "1. Contracting the two tensors to a single tensor\n",
    "2. Decomposing the tensor back to two separate tensors using the `decompose_tensor!` method explained above\n",
    "\n",
    "It is assumed when using this method that the only bonds that exist between tensors in the chain are those between consecutive tensors."
   ]
  },
  {
   "cell_type": "markdown",
   "metadata": {},
   "source": [
    "### Chain compression"
   ]
  },
  {
   "cell_type": "markdown",
   "metadata": {},
   "source": [
    "We illustrate the `compress_tensor_chain!` method with a simple example where we compress a chain of input tensors which have no bonds between them. This should result in bonds of dimension 1 between each tensor."
   ]
  },
  {
   "cell_type": "code",
   "execution_count": null,
   "metadata": {},
   "outputs": [],
   "source": [
    "# create the tensor network circuit and add 0's for input\n",
    "tn = TensorNetworkCircuit(3)\n",
    "add_input!(tn, \"000\")"
   ]
  },
  {
   "cell_type": "markdown",
   "metadata": {},
   "source": [
    "Next we look at the nodes and print the size of the tensor for each."
   ]
  },
  {
   "cell_type": "code",
   "execution_count": null,
   "metadata": {},
   "outputs": [],
   "source": [
    "for node_sym in [:node_1, :node_2, :node_3]\n",
    "    println(\"$node_sym dim: $(size(load_tensor_data(backend, node_sym)))\")\n",
    "end"
   ]
  },
  {
   "cell_type": "markdown",
   "metadata": {},
   "source": [
    "We see that each node is a vector of dimension 2. We now apply compression along the tensor chain."
   ]
  },
  {
   "cell_type": "code",
   "execution_count": null,
   "metadata": {},
   "outputs": [],
   "source": [
    "# apply compression\n",
    "compress_tensor_chain!(tn, [:node_1, :node_2, :node_3])"
   ]
  },
  {
   "cell_type": "markdown",
   "metadata": {},
   "source": [
    "And print the dimension of the resulting tensors."
   ]
  },
  {
   "cell_type": "code",
   "execution_count": null,
   "metadata": {},
   "outputs": [],
   "source": [
    "for node_sym in [:node_1, :node_2, :node_3]\n",
    "    println(\"$node_sym dim: $(size(load_tensor_data(backend, node_sym)))\")\n",
    "end"
   ]
  },
  {
   "cell_type": "code",
   "execution_count": null,
   "metadata": {},
   "outputs": [],
   "source": [
    "println(\"Nodes in tensor network circuit: $(keys(tn.nodes))\")\n",
    "for node_sym in keys(tn.nodes)\n",
    "    println(\"$node_sym dim: $(size(load_tensor_data(backend, node_sym)))\")\n",
    "end"
   ]
  },
  {
   "cell_type": "markdown",
   "metadata": {},
   "source": [
    "## MPS contraction"
   ]
  },
  {
   "cell_type": "markdown",
   "metadata": {},
   "source": [
    "Next we show a less trivial example where we contract a 3-qubit tensor network circuit using the `contract_mps_tensor_network_circuit!` method which periodically applied the `compress_tensor_chain!` method to keep the dimension of the bonds down. We use a circuit made up of two applications of a GHZ state preparation circuit to show this."
   ]
  },
  {
   "cell_type": "code",
   "execution_count": null,
   "metadata": {},
   "outputs": [],
   "source": [
    "# create the qiskit circuit object by combining two \n",
    "ghz_circ = create_ghz_preparation_circuit(3)\n",
    "double_ghz_circ = ghz_circ.compose(ghz_circ)\n",
    "double_ghz_circ.draw()"
   ]
  },
  {
   "cell_type": "code",
   "execution_count": null,
   "metadata": {},
   "outputs": [],
   "source": [
    "tn = convert_qiskit_circ_to_network(double_ghz_circ, decompose=true)\n",
    "add_input!(tn, \"000\")"
   ]
  },
  {
   "cell_type": "code",
   "execution_count": null,
   "metadata": {},
   "outputs": [],
   "source": [
    "plot(tn, showlabels=true)"
   ]
  },
  {
   "cell_type": "code",
   "execution_count": null,
   "metadata": {},
   "outputs": [],
   "source": [
    "mps_nodes = contract_mps_tensor_network_circuit!(tn)"
   ]
  },
  {
   "cell_type": "markdown",
   "metadata": {},
   "source": [
    "We now print the dimensions of each of the MPS tensors."
   ]
  },
  {
   "cell_type": "code",
   "execution_count": null,
   "metadata": {},
   "outputs": [],
   "source": [
    "for node_sym in mps_nodes\n",
    "    println(\"$node_sym dims: $(size(load_tensor_data(backend, node_sym)))\")\n",
    "end"
   ]
  },
  {
   "cell_type": "markdown",
   "metadata": {},
   "source": [
    "We see that the bond dimension between each of the input tensors is two. This is a reduction from what the bond dimension would have been if we had contracted without compression (between each consecutive pair of tensors there would be two bonds each of dimension two, see plot above). "
   ]
  },
  {
   "cell_type": "markdown",
   "metadata": {},
   "source": [
    "To access the individual amplitudes of the resulting MPS state we can create an instance of the MPSState type. This structure provides an array like interface to the amplitudes which accepts either a configuration string or index."
   ]
  },
  {
   "cell_type": "code",
   "execution_count": null,
   "metadata": {},
   "outputs": [],
   "source": [
    "mps_state = MPSState(tn, mps_nodes)\n",
    "println(mps_state[\"000\"])\n",
    "println(mps_state[1, 1, 1])"
   ]
  },
  {
   "cell_type": "markdown",
   "metadata": {},
   "source": [
    "Can retrieve a vector from this structure using the vec method"
   ]
  },
  {
   "cell_type": "code",
   "execution_count": null,
   "metadata": {},
   "outputs": [],
   "source": [
    "vec(mps_state)"
   ]
  }
 ],
 "metadata": {
  "kernelspec": {
   "display_name": "Julia 1.3.1",
   "language": "julia",
   "name": "julia-1.3"
  },
  "language_info": {
   "file_extension": ".jl",
   "mimetype": "application/julia",
   "name": "julia",
   "version": "1.3.1"
  }
 },
 "nbformat": 4,
 "nbformat_minor": 4
}
