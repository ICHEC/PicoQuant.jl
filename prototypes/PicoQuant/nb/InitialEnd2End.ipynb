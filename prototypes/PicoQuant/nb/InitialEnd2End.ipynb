{
 "cells": [
  {
   "cell_type": "markdown",
   "metadata": {},
   "source": [
    "Before we can test anything we first need to have some simple circuits to tests with. For this we create some simple circuits and use qiskit to write the equivalent qasm description for these."
   ]
  },
  {
   "cell_type": "code",
   "execution_count": null,
   "metadata": {},
   "outputs": [],
   "source": [
    "using PyCall\n",
    "\n",
    "function create_qft_circuit(qubits::Integer)\n",
    "    qiskit = pyimport(\"qiskit\")\n",
    "    qfts = pyimport(\"qiskit.aqua.components.qfts\")\n",
    "\n",
    "    circ = qiskit.QuantumCircuit(qubits)\n",
    "    circ = qfts.Standard(qubits).construct_circuit(mode=\"circuit\", \n",
    "                                                   qubits=circ.qregs[1],\n",
    "                                                   circuit=circ)\n",
    "    circ.qasm()\n",
    "end\n",
    "\n",
    "print(create_qft_circuit(3))"
   ]
  },
  {
   "cell_type": "markdown",
   "metadata": {},
   "source": [
    "Write the QFT circuit on 3 qubits to a qasm file on disk"
   ]
  },
  {
   "cell_type": "code",
   "execution_count": null,
   "metadata": {},
   "outputs": [],
   "source": [
    "for qubits in [2, 3, 5, 10] \n",
    "    circ_qasm = create_qft_circuit(qubits)\n",
    "    open(\"../examples/qft_$(qubits).qasm\", \"w\") do io\n",
    "       write(io, circ_qasm)\n",
    "    end\n",
    "end"
   ]
  },
  {
   "cell_type": "code",
   "execution_count": null,
   "metadata": {},
   "outputs": [],
   "source": [
    ";cat ../examples/qft_3.qasm"
   ]
  },
  {
   "cell_type": "markdown",
   "metadata": {},
   "source": [
    "Create a GHZ circuit aswell."
   ]
  },
  {
   "cell_type": "code",
   "execution_count": null,
   "metadata": {},
   "outputs": [],
   "source": [
    "qiskit = pyimport(\"qiskit\")\n",
    "circ = qiskit.QuantumCircuit(3)\n",
    "circ.h(0)\n",
    "circ.cx(0, 1)\n",
    "circ.cx(1, 2)\n",
    "circ.draw()"
   ]
  },
  {
   "cell_type": "code",
   "execution_count": null,
   "metadata": {},
   "outputs": [],
   "source": [
    "open(\"../examples/ghz_3.qasm\", \"w\") do io\n",
    "    write(io, circ.qasm())\n",
    "end"
   ]
  },
  {
   "cell_type": "code",
   "execution_count": null,
   "metadata": {},
   "outputs": [],
   "source": [
    ";cat ../examples/ghz_3.qasm"
   ]
  },
  {
   "cell_type": "markdown",
   "metadata": {},
   "source": [
    "# Layer 3: circuit to tensor network"
   ]
  },
  {
   "cell_type": "markdown",
   "metadata": {},
   "source": [
    "This layer has a few tasks\n",
    "1. Load circuit from qasm\n",
    "2. Transpile so that only neighbouring qubits interact\n",
    "3. Construct tensor network\n",
    "4. Save as usable format"
   ]
  },
  {
   "cell_type": "markdown",
   "metadata": {},
   "source": [
    "## Task 1: load circuit from qasm"
   ]
  },
  {
   "cell_type": "code",
   "execution_count": null,
   "metadata": {},
   "outputs": [],
   "source": [
    "using PyCall\n",
    "\n",
    "qiskit = pyimport(\"qiskit\")\n",
    "circ = qiskit.QuantumCircuit.from_qasm_file(\"../examples/qft_3.qasm\")\n",
    "# circ = qiskit.QuantumCircuit.from_qasm_file(\"../examples/ghz_3.qasm\")\n",
    "# circ = qiskit.QuantumCircuit.from_qasm_file(\"../examples/qft_10.qasm\")"
   ]
  },
  {
   "cell_type": "code",
   "execution_count": null,
   "metadata": {},
   "outputs": [],
   "source": [
    "circ.draw()"
   ]
  },
  {
   "cell_type": "markdown",
   "metadata": {},
   "source": [
    "## Task 2: Transpile"
   ]
  },
  {
   "cell_type": "markdown",
   "metadata": {},
   "source": [
    "For the MPS network we require that there can only be two qubit gates acting between neighbouring qubits. Given a generic circuit which does not satisfy this we can enforce this by adding swap gates to move the interacting qubits together. The qiskit transpiler can do this for us."
   ]
  },
  {
   "cell_type": "code",
   "execution_count": null,
   "metadata": {},
   "outputs": [],
   "source": [
    "transpiler = pyimport(\"qiskit.transpiler\")\n",
    "passes = pyimport(\"qiskit.transpiler.passes\")\n",
    "\n",
    "coupling = [[i-1, i] for i = 1:circ.n_qubits]\n",
    "\n",
    "coupling_map = transpiler.CouplingMap(PyCall.array2py([PyCall.array2py(x) for x in coupling]))\n",
    "\n",
    "pass = passes.BasicSwap(coupling_map=coupling_map)\n",
    "# pass = passes.LookaheadSwap(coupling_map=coupling_map)\n",
    "# pass = passes.StochasticSwap(coupling_map=coupling_map)\n",
    "pass_manager = transpiler.PassManager(pass)\n",
    "transpiled_circ = pass_manager.run(circ)\n",
    "\n",
    "transpiled_circ.draw()"
   ]
  },
  {
   "cell_type": "code",
   "execution_count": null,
   "metadata": {},
   "outputs": [],
   "source": [
    "length(transpiled_circ.data)"
   ]
  },
  {
   "cell_type": "markdown",
   "metadata": {},
   "source": [
    "## Task 3: Construct tensor network"
   ]
  },
  {
   "cell_type": "markdown",
   "metadata": {},
   "source": [
    "We build the tensornetwork as a graph where each of the gates are nodes and addition nodes are added for start end end of qubits. We create a graph from the circuit. This proceeds by\n",
    "\n",
    "1. Add node for each input qubit. This node will have a single index and the data will be initialised to [1,0] corresponding to state $|0\\rangle$\n",
    "2. Iterate over gates in the circuit and create nodes for each:\n",
    "   a. Create node\n",
    "   b. Reshape gate operation to appropriate shape and add\n",
    "   c. Add indices to match shape order of data\n",
    "   d. Add edges to existing nodes with edge dimensions\n",
    "3. Add output nodes with corresponding "
   ]
  },
  {
   "cell_type": "code",
   "execution_count": null,
   "metadata": {},
   "outputs": [],
   "source": [
    "using LightGraphs, MetaGraphs\n",
    "using JSON\n",
    "using DataStructures\n",
    "using Test"
   ]
  },
  {
   "cell_type": "code",
   "execution_count": null,
   "metadata": {},
   "outputs": [],
   "source": [
    "struct TensorNetworkCircuit\n",
    "    qubits::Integer\n",
    "    graph::MetaDiGraph\n",
    "    inputs::Array{Integer, 1}\n",
    "    outputs::Array{Integer, 1}\n",
    "end\n",
    "\n",
    "\"\"\"\n",
    "    function TensorNetworkCircuit(qubits::Integer)\n",
    "\n",
    "Outer constructor to create an instance of TensorNetworkCircuit\n",
    "\"\"\"\n",
    "function TensorNetworkCircuit(qubits::Integer)\n",
    "    graph = MetaDiGraph(qubits)\n",
    "    # add input nodes\n",
    "    inputs = collect(1:qubits)\n",
    "    for i = 1:qubits\n",
    "        set_props!(graph, i, Dict(:qubits => [i],\n",
    "                                  :indices => [1],\n",
    "                                  :dims => [2],\n",
    "                                  :data => [1., 0.],\n",
    "                                  :type => \"input\",\n",
    "                                  :data_order => \"col\"))\n",
    "    end\n",
    "    \n",
    "    # add output nodes\n",
    "    outputs = collect((qubits + 1):(qubits * 2))\n",
    "    for i = 1:qubits\n",
    "        add_vertex!(graph)\n",
    "        set_props!(graph, i + qubits, Dict(:qubits => [i + qubits],\n",
    "                                  :indices => [1],\n",
    "                                  :dims => [2],\n",
    "                                  :data => [1., 0.],\n",
    "                                  :type => \"output\",\n",
    "                                  :data_order => \"col\"))\n",
    "        # add edge from input to output\n",
    "        add_edge!(graph, i, i + qubits)\n",
    "        set_prop!(graph, i, i + qubits, :indices, [1, 1])\n",
    "    end\n",
    "    TensorNetworkCircuit(qubits, graph, inputs, outputs)\n",
    "end\n",
    "\n",
    "\"\"\"\n",
    "    resize_gate(data, qubits)\n",
    "\n",
    "Given the matrix corresponding to a gate, we reshape to have indices corresponding to qubits\n",
    "\"\"\"\n",
    "function resize_gate(data, qubits)\n",
    "    if qubits == 1\n",
    "        return data\n",
    "    else\n",
    "        @assert size(data) == (2^qubits, 2^qubits)\n",
    "        return reshape(data, Tuple((2 for i = 1:4)))\n",
    "    end\n",
    "end\n",
    "\n",
    "\"\"\"\n",
    "    function add_gate!(tng::TensorNetworkCircuit, gate::Array{ComplexF64, 2}, qubits::Array{Integer, 1})\n",
    "\n",
    "Add gate with matrix op given to circuit\n",
    "\"\"\"\n",
    "function add_gate!(tng::TensorNetworkCircuit, gate::Array{ComplexF64, 2}, qubits::Array{T, 1}) where T <: Integer\n",
    "    # add a vertex for this gate\n",
    "    add_vertex!(tng.graph)\n",
    "    vertex_id = length(vertices(tng.graph))\n",
    "    \n",
    "    # prepare property values\n",
    "    props = Dict{Symbol, Any}()\n",
    "    props[:qubits] = qubits\n",
    "    props[:indices] = collect(1:length(qubits)*2)\n",
    "    props[:dims] = collect([2 for i = 1:length(qubits)*2])\n",
    "    props[:data] = reshape(gate, prod(size(gate)))\n",
    "    props[:type] = \"gate\"\n",
    "    props[:data_order] = \"col\"\n",
    "    \n",
    "    set_props!(tng.graph, vertex_id, props)\n",
    "\n",
    "    for (i, qubit) in enumerate(qubits)\n",
    "        qubit_index = qubit + 1\n",
    "        output_node = tng.outputs[qubit_index]\n",
    "        from_node = inneighbors(tng.graph, output_node)[1]\n",
    "        edge_indices = get_prop(tng.graph, from_node, output_node, :indices)\n",
    "        rem_edge!(tng.graph, from_node, output_node)\n",
    "        \n",
    "        add_edge!(tng.graph, from_node, vertex_id)\n",
    "        set_prop!(tng.graph, from_node, vertex_id, :indices, [edge_indices[1], i])\n",
    "        \n",
    "        add_edge!(tng.graph, vertex_id, output_node)\n",
    "        set_prop!(tng.graph, vertex_id, output_node, :indices, [length(qubits) + i, edge_indices[2]])        \n",
    "    end\n",
    "end"
   ]
  },
  {
   "cell_type": "markdown",
   "metadata": {},
   "source": [
    "Using this data structure and functions it makes it easy to create our tensor network graph"
   ]
  },
  {
   "cell_type": "code",
   "execution_count": null,
   "metadata": {},
   "outputs": [],
   "source": [
    "tng = TensorNetworkCircuit(circ.n_qubits)\n",
    "for gate in circ.data\n",
    "    add_gate!(tng, gate[1].to_matrix(), [x.index for x in gate[2]])\n",
    "end"
   ]
  },
  {
   "cell_type": "markdown",
   "metadata": {},
   "source": [
    "## Task 4: Output in useable format "
   ]
  },
  {
   "cell_type": "markdown",
   "metadata": {},
   "source": [
    "We now write functions to serialise this data structure to json format."
   ]
  },
  {
   "cell_type": "code",
   "execution_count": null,
   "metadata": {},
   "outputs": [],
   "source": [
    "using JSON\n",
    "using DataStructures\n",
    "\n",
    "\"\"\"\n",
    "    function to_json(tng::TensorNetworkCircuit, indent::Integer=0)\n",
    "\n",
    "Convert the graph to a JSON string\n",
    "\"\"\"\n",
    "function to_json(tng::TensorNetworkCircuit, indent::Integer=0)\n",
    "    top_level = OrderedDict()\n",
    "    top_level[\"inputs\"] = tng.inputs\n",
    "    top_level[\"outputs\"] = tng.outputs\n",
    "\n",
    "    top_level[\"nodes\"] = OrderedDict{Int64, Any}()\n",
    "    nodes_dict = top_level[\"nodes\"]\n",
    "    for node in vertices(tng.graph)\n",
    "        nodes_dict[node] = deepcopy(props(tng.graph, node))\n",
    "        data = nodes_dict[node][:data]\n",
    "        nodes_dict[node][:data_re] = reshape(real.(data), prod(size(data)))\n",
    "        nodes_dict[node][:data_im] = reshape(imag.(data), prod(size(data)))\n",
    "        delete!(nodes_dict[node], :data)\n",
    "    end\n",
    "    \n",
    "    top_level[\"edges\"] = OrderedDict{Int64, Any}()\n",
    "    edges_dict = top_level[\"edges\"]\n",
    "    for (i, edge) in enumerate(edges(tng.graph))\n",
    "        edges_dict[i] = props(tng.graph, edge)\n",
    "        edges_dict[i][:src] = edge.src\n",
    "        edges_dict[i][:dst] = edge.dst\n",
    "    end\n",
    "    \n",
    "    JSON.json(top_level, indent)\n",
    "end"
   ]
  },
  {
   "cell_type": "markdown",
   "metadata": {},
   "source": [
    "And to deserialise."
   ]
  },
  {
   "cell_type": "code",
   "execution_count": null,
   "metadata": {},
   "outputs": [],
   "source": [
    "\"\"\"\n",
    "    function from_json(json_str::String)\n",
    "\n",
    "Convert a json formatted string to tensor network circuit graph\n",
    "\"\"\"\n",
    "function from_json(json_str::String)\n",
    "    top_level = JSON.parse(json_str)\n",
    "    nodes = top_level[\"nodes\"]    \n",
    "    \n",
    "    graph = MetaDiGraph(length(nodes))\n",
    "    for i = 1:length(nodes)\n",
    "        node_dict = nodes[\"$(i)\"]\n",
    "        set_prop!(graph, i, :indices, convert(Array{Int64, 1}, node_dict[\"indices\"]))\n",
    "        set_prop!(graph, i, :dims, convert(Array{Int64, 1}, node_dict[\"dims\"]))\n",
    "        set_prop!(graph, i, :type, node_dict[\"type\"])\n",
    "        set_prop!(graph, i, :data_order, node_dict[\"data_order\"])\n",
    "        set_prop!(graph, i, :data, node_dict[\"data_re\"] .+ node_dict[\"data_im\"] .* 1im)\n",
    "        set_prop!(graph, i, :qubits, convert(Array{Int64, 1}, node_dict[\"qubits\"]))\n",
    "    end\n",
    "    \n",
    "    edges = top_level[\"edges\"]\n",
    "    for i = 1:length(edges)\n",
    "        edge = edges[\"$(i)\"]\n",
    "        src, dst = edge[\"src\"], edge[\"dst\"]\n",
    "        add_edge!(graph, src, dst)\n",
    "        set_prop!(graph, src, dst, :indices, convert(Array{Int64, 1}, edge[\"indices\"]))\n",
    "        set_prop!(graph, src, dst, :src, src)\n",
    "        set_prop!(graph, src, dst, :dst, dst)        \n",
    "    end\n",
    "\n",
    "    TensorNetworkCircuit(length(top_level[\"inputs\"]), graph, top_level[\"inputs\"], top_level[\"outputs\"])\n",
    "end"
   ]
  },
  {
   "cell_type": "markdown",
   "metadata": {},
   "source": [
    "We test this by serialising, deserialising and serialising again and making sure both serialised versions match."
   ]
  },
  {
   "cell_type": "code",
   "execution_count": null,
   "metadata": {},
   "outputs": [],
   "source": [
    "using Test\n",
    "\n",
    "@test to_json(from_json(to_json(tng))) == to_json(tng)"
   ]
  },
  {
   "cell_type": "markdown",
   "metadata": {},
   "source": [
    "Small example."
   ]
  },
  {
   "cell_type": "code",
   "execution_count": null,
   "metadata": {},
   "outputs": [],
   "source": [
    "qiskit = pyimport(\"qiskit\")\n",
    "circ = qiskit.QuantumCircuit(2)\n",
    "circ.h(0)\n",
    "circ.cz(0, 1)\n",
    "convert circ.qasm()"
   ]
  },
  {
   "cell_type": "code",
   "execution_count": null,
   "metadata": {},
   "outputs": [],
   "source": [
    "tng = TensorNetworkCircuit(circ.n_qubits)\n",
    "for gate in circ.data\n",
    "    add_gate!(tng, gate[1].to_matrix(), [x.index for x in gate[2]])\n",
    "end\n",
    "print(to_json(tng, 2))"
   ]
  },
  {
   "cell_type": "markdown",
   "metadata": {},
   "source": [
    "It would also be nice to be able to visualise graphically. We can do this with TikzGraphs but available layouts are a little limited."
   ]
  },
  {
   "cell_type": "code",
   "execution_count": null,
   "metadata": {},
   "outputs": [],
   "source": [
    "using TikzGraphs\n",
    "using TikzPictures"
   ]
  },
  {
   "cell_type": "code",
   "execution_count": null,
   "metadata": {},
   "outputs": [],
   "source": [
    "# other layouts available are Layered, Spring and SimpleNecklace\n",
    "tikz_graph = TikzGraphs.plot(Graph(tng.graph.graph), Layouts.SpringElectrical())\n",
    "TikzPictures.save(PDF(\"graph\"), tikz_graph)"
   ]
  },
  {
   "cell_type": "markdown",
   "metadata": {},
   "source": [
    "# Layer 2: Tensor Network to contractions"
   ]
  },
  {
   "cell_type": "markdown",
   "metadata": {},
   "source": [
    "In this layer, a tensor network description in input and a sequence of contractions is planned which should output the desired amplitudes. The prototype implementation will simply contract across from input nodes until it gets to the end, not performing any compression or slicing.\n",
    "\n",
    "Tasks to be performed by prototype implementation of this layer\n",
    "1. Load tensor network graph description\n",
    "2. Iterate over network from input nodes computing the bond dimensions along the way and recording indices\n",
    "3. Output the planned contractions"
   ]
  },
  {
   "cell_type": "markdown",
   "metadata": {},
   "source": [
    "## Task 1: Load tensor network"
   ]
  },
  {
   "cell_type": "markdown",
   "metadata": {},
   "source": [
    "## 2. Iterate over network from input nodes computing the bond dimensions along the way and recording indices"
   ]
  },
  {
   "cell_type": "code",
   "execution_count": null,
   "metadata": {},
   "outputs": [],
   "source": []
  },
  {
   "cell_type": "markdown",
   "metadata": {},
   "source": [
    "## 3. Output the planned contractions"
   ]
  }
 ],
 "metadata": {
  "@webio": {
   "lastCommId": null,
   "lastKernelId": null
  },
  "kernelspec": {
   "display_name": "Julia 1.3.1",
   "language": "julia",
   "name": "julia-1.3"
  },
  "language_info": {
   "file_extension": ".jl",
   "mimetype": "application/julia",
   "name": "julia",
   "version": "1.3.1"
  }
 },
 "nbformat": 4,
 "nbformat_minor": 2
}
